{
  "nbformat": 4,
  "nbformat_minor": 0,
  "metadata": {
    "colab": {
      "name": "kNN_1.ipynb",
      "version": "0.3.2",
      "provenance": [],
      "collapsed_sections": []
    },
    "kernelspec": {
      "name": "python3",
      "display_name": "Python 3"
    },
    "accelerator": "GPU"
  },
  "cells": [
    {
      "cell_type": "code",
      "metadata": {
        "id": "boWoYfDR2qHA",
        "colab_type": "code",
        "colab": {}
      },
      "source": [
        "!pip install -U -q PyDrive\n",
        "import os\n",
        "import numpy as np\n",
        "import pandas as pd\n",
        "import matplotlib.pyplot as plt\n",
        "import time\n",
        "import seaborn as sn\n",
        "from sklearn.model_selection import train_test_split\n",
        "from sklearn import preprocessing, utils\n",
        "import matplotlib.pyplot as plt\n",
        "from sklearn.model_selection import StratifiedKFold\n",
        "from sklearn.feature_selection import RFECV\n",
        "from sklearn.utils import shuffle\n",
        "from sklearn.metrics import accuracy_score, confusion_matrix\n",
        "from sklearn.cross_validation import cross_val_score\n",
        "from sklearn.grid_search import GridSearchCV\n",
        "# Load Libs for Google Collab\n",
        "from pydrive.auth import GoogleAuth\n",
        "from pydrive.drive import GoogleDrive\n",
        "from google.colab import auth\n",
        "from oauth2client.client import GoogleCredentials\n",
        "%matplotlib inline"
      ],
      "execution_count": 0,
      "outputs": []
    },
    {
      "cell_type": "code",
      "metadata": {
        "id": "8om4vkva8vLN",
        "colab_type": "code",
        "colab": {}
      },
      "source": [
        "# Authenticate\n",
        "auth.authenticate_user()\n",
        "gauth = GoogleAuth()\n",
        "gauth.credentials = GoogleCredentials.get_application_default()\n",
        "drive = GoogleDrive(gauth)\n",
        "from googleapiclient.discovery import build\n",
        "drive_service = build('drive', 'v3')\n",
        "listed = drive.ListFile({'q': \"title contains '.csv' and 'root' in parents\"}).GetList()\n",
        "for file in listed:\n",
        "  print('title {}, id {}'.format(file['title'], file['id']))\n",
        "X_downloaded = drive.CreateFile({'id': 'XXX',\n",
        "                                'parents': 'XXX'})\n",
        "X_downloaded.GetContentFile('X.csv')\n",
        "y_downloaded = drive.CreateFile({'id': 'XXX',\n",
        "                                'parents': 'XXX'})\n",
        "y_downloaded.GetContentFile('y.csv')"
      ],
      "execution_count": 0,
      "outputs": []
    },
    {
      "cell_type": "code",
      "metadata": {
        "id": "yP9mS0H-8xeY",
        "colab_type": "code",
        "colab": {}
      },
      "source": [
        "X = pd.read_csv('X.csv', sep='\\t', decimal=',', encoding='utf-8', index_col=0)\n",
        "y = pd.read_csv('y.csv', sep='\\t', decimal=',', encoding='utf-8', index_col=0)\n",
        "\n",
        "X_train, X_test, y_train, y_test = train_test_split(X, y,\n",
        "                                                   test_size=0.2,\n",
        "                                                   random_state=52)"
      ],
      "execution_count": 0,
      "outputs": []
    },
    {
      "cell_type": "code",
      "metadata": {
        "id": "sKVi3qmY92g5",
        "colab_type": "code",
        "colab": {}
      },
      "source": [
        "from sklearn.neighbors import KNeighborsClassifier"
      ],
      "execution_count": 0,
      "outputs": []
    },
    {
      "cell_type": "code",
      "metadata": {
        "id": "Wbm0yut899QP",
        "colab_type": "code",
        "outputId": "aebf830b-e385-432a-807e-d9cbf3843741",
        "colab": {
          "base_uri": "https://localhost:8080/",
          "height": 139
        }
      },
      "source": [
        "knn = KNeighborsClassifier(n_neighbors = 5)\n",
        "\n",
        "k_range = list(range(1,7))\n",
        "param_grid = dict(n_neighbors=k_range)\n",
        "\n",
        "model = GridSearchCV(knn, param_grid, cv=10, scoring='accuracy')\n",
        "\n",
        "model.fit(X_train.as_matrix(), y_train.as_matrix().ravel().T)\n"
      ],
      "execution_count": 0,
      "outputs": [
        {
          "output_type": "execute_result",
          "data": {
            "text/plain": [
              "GridSearchCV(cv=10, error_score='raise',\n",
              "       estimator=KNeighborsClassifier(algorithm='auto', leaf_size=30, metric='minkowski',\n",
              "           metric_params=None, n_jobs=1, n_neighbors=5, p=2,\n",
              "           weights='uniform'),\n",
              "       fit_params={}, iid=True, n_jobs=-1,\n",
              "       param_grid={'n_neighbors': [1, 2, 3, 4, 5, 6]},\n",
              "       pre_dispatch='2*n_jobs', refit=True, scoring='accuracy', verbose=0)"
            ]
          },
          "metadata": {
            "tags": []
          },
          "execution_count": 35
        }
      ]
    },
    {
      "cell_type": "code",
      "metadata": {
        "id": "5PhLBz9I-1QU",
        "colab_type": "code",
        "outputId": "de9c246b-f287-4e47-f5f2-e2686e6feed7",
        "colab": {
          "base_uri": "https://localhost:8080/",
          "height": 156
        }
      },
      "source": [
        "y_pred = model.predict(X_test)\n",
        "accuracy = accuracy_score(y_test, y_pred)\n",
        "\n",
        "model.grid_scores_"
      ],
      "execution_count": 0,
      "outputs": [
        {
          "output_type": "stream",
          "text": [
            "98.94633668218574 %\n",
            "{'n_neighbors': 1}\n"
          ],
          "name": "stdout"
        },
        {
          "output_type": "execute_result",
          "data": {
            "text/plain": [
              "[mean: 0.99072, std: 0.00187, params: {'n_neighbors': 1},\n",
              " mean: 0.98943, std: 0.00209, params: {'n_neighbors': 2},\n",
              " mean: 0.98873, std: 0.00242, params: {'n_neighbors': 3},\n",
              " mean: 0.98882, std: 0.00202, params: {'n_neighbors': 4},\n",
              " mean: 0.98716, std: 0.00231, params: {'n_neighbors': 5},\n",
              " mean: 0.98695, std: 0.00250, params: {'n_neighbors': 6}]"
            ]
          },
          "metadata": {
            "tags": []
          },
          "execution_count": 41
        }
      ]
    },
    {
      "cell_type": "code",
      "metadata": {
        "id": "wzrjjp8AT7LJ",
        "colab_type": "code",
        "outputId": "89b35b09-36ad-46aa-def3-9c33a861a3ee",
        "colab": {
          "base_uri": "https://localhost:8080/",
          "height": 225
        }
      },
      "source": [
        "from sklearn.metrics import classification_report\n",
        "print(classification_report(y_test, y_pred))\n",
        "score = cross_val_score(knn, X_train.as_matrix(), y_train.as_matrix().ravel().T, cv=10)"
      ],
      "execution_count": 0,
      "outputs": [
        {
          "output_type": "stream",
          "text": [
            "             precision    recall  f1-score   support\n",
            "\n",
            "          1       0.98      0.99      0.99       823\n",
            "          2       0.99      0.99      0.99      1160\n",
            "          3       1.00      1.00      1.00      1027\n",
            "          4       0.99      0.98      0.98      1253\n",
            "          5       0.98      0.98      0.98      1204\n",
            "          6       0.99      0.99      0.99      1358\n",
            "          7       0.99      0.99      0.99      1337\n",
            "\n",
            "avg / total       0.99      0.99      0.99      8162\n",
            "\n"
          ],
          "name": "stdout"
        }
      ]
    },
    {
      "cell_type": "code",
      "metadata": {
        "id": "AI49Igm3ow-1",
        "colab_type": "code",
        "outputId": "c0908c8f-af35-4156-c414-c7912e4fe0fc",
        "colab": {
          "base_uri": "https://localhost:8080/",
          "height": 34
        }
      },
      "source": [
        "grid_mean_scores = [result.mean_validation_score for result in model.grid_scores_]\n",
        "print(grid_mean_scores)"
      ],
      "execution_count": 0,
      "outputs": [
        {
          "output_type": "stream",
          "text": [
            "[0.9907180492586692, 0.9894314422252175, 0.9887268717068987, 0.988818772209288, 0.9871645631662787, 0.9869501286607033]\n"
          ],
          "name": "stdout"
        }
      ]
    },
    {
      "cell_type": "code",
      "metadata": {
        "id": "ff0A_V5hVDa9",
        "colab_type": "code",
        "outputId": "3abdf51c-dcc9-499e-eeaa-0b00f27fc780",
        "colab": {
          "base_uri": "https://localhost:8080/",
          "height": 296
        }
      },
      "source": [
        "plt.plot(k_range, grid_mean_scores)\n",
        "plt.xlabel('Value of K for kNN')\n",
        "plt.ylabel('Cross-Validated Accuracy')"
      ],
      "execution_count": 0,
      "outputs": [
        {
          "output_type": "execute_result",
          "data": {
            "text/plain": [
              "Text(0,0.5,'Cross-Validated Accuracy')"
            ]
          },
          "metadata": {
            "tags": []
          },
          "execution_count": 49
        },
        {
          "output_type": "display_data",
          "data": {
            "image/png": "[encoded data removed]",
            "text/plain": [
              "<matplotlib.figure.Figure at 0x7f45b9b307f0>"
            ]
          },
          "metadata": {
            "tags": []
          }
        }
      ]
    },
    {
      "cell_type": "code",
      "metadata": {
        "id": "1bNab5y7pz0y",
        "colab_type": "code",
        "outputId": "5da63708-89ba-41da-e149-6d61ae4de114",
        "colab": {
          "base_uri": "https://localhost:8080/",
          "height": 121
        }
      },
      "source": [
        "print(model.best_score_)\n",
        "print(model.best_params_)\n",
        "print(model.best_estimator_)\n",
        "print(model.score(X_test, y_test))"
      ],
      "execution_count": 0,
      "outputs": [
        {
          "output_type": "stream",
          "text": [
            "0.9907180492586692\n",
            "{'n_neighbors': 1}\n",
            "KNeighborsClassifier(algorithm='auto', leaf_size=30, metric='minkowski',\n",
            "           metric_params=None, n_jobs=1, n_neighbors=1, p=2,\n",
            "           weights='uniform')\n",
            "0.9894633668218574\n"
          ],
          "name": "stdout"
        }
      ]
    },
    {
      "cell_type": "code",
      "metadata": {
        "id": "g9rt8tXDMncO",
        "colab_type": "code",
        "outputId": "d367e221-68cf-4b34-e198-aaec97cc2e99",
        "colab": {
          "base_uri": "https://localhost:8080/",
          "height": 873
        }
      },
      "source": [
        "LABELS = ['Bike', 'Car', 'Jogging', 'Metro', 'Tram', 'Train', 'Walking', 'ALL']\n",
        "labels = ['Bike', 'Car', 'Jogging', 'Metro', 'Tram', 'Train', 'Walking']\n",
        "\n",
        "print(len(y_test.values.flatten()))\n",
        "\n",
        "crosstab = pd.crosstab(y_test.values.flatten(), model.predict(X_test),\n",
        "                      rownames=['True'], colnames=['Predicted'],\n",
        "                      margins=True)\n",
        "crosstab.columns = LABELS\n",
        "crosstab.index = LABELS\n",
        "crosstab = crosstab.drop('ALL', axis=1).drop('ALL', axis=0)\n",
        "\n",
        "print(crosstab.columns)\n",
        "\n",
        "plt.figure(figsize=(16, 14))\n",
        "sn.heatmap(crosstab, xticklabels=labels, yticklabels=labels, annot=True, fmt=\"d\");\n",
        "plt.title(\"Confusion matrix\")\n",
        "plt.ylabel('True label')\n",
        "plt.xlabel('Predicted label')\n",
        "plt.show();\n"
      ],
      "execution_count": 0,
      "outputs": [
        {
          "output_type": "stream",
          "text": [
            "8162\n",
            "Index(['Bike', 'Car', 'Jogging', 'Metro', 'Tram', 'Train', 'Walking'], dtype='object')\n"
          ],
          "name": "stdout"
        },
        {
          "output_type": "display_data",
          "data": {
            "image/png": "[encoded data removed]",
            "text/plain": [
              "<matplotlib.figure.Figure at 0x7f45b9ac6dd8>"
            ]
          },
          "metadata": {
            "tags": []
          }
        }
      ]
    },
    {
      "cell_type": "code",
      "metadata": {
        "id": "qr_Qgs3U_D31",
        "colab_type": "code",
        "outputId": "baca6503-41ee-43fb-a7a7-2c6af1e74eaa",
        "colab": {
          "base_uri": "https://localhost:8080/",
          "height": 72
        }
      },
      "source": [
        "scores = []\n",
        "for i in range(1,7):\n",
        "  knn = KNeighborsClassifier(n_neighbors = i, n_jobs=-1)\n",
        "  knn.fit(X_train, y_train)\n",
        "  y_pred = knn.predict(X_test)\n",
        "  scores.append(accuracy_score(y_test,y_pred))"
      ],
      "execution_count": 0,
      "outputs": [
        {
          "output_type": "stream",
          "text": [
            "/usr/local/lib/python3.6/dist-packages/ipykernel_launcher.py:4: DataConversionWarning: A column-vector y was passed when a 1d array was expected. Please change the shape of y to (n_samples, ), for example using ravel().\n",
            "  after removing the cwd from sys.path.\n"
          ],
          "name": "stderr"
        }
      ]
    },
    {
      "cell_type": "code",
      "metadata": {
        "id": "PEwvql9k_cGM",
        "colab_type": "code",
        "outputId": "94630d1a-9c63-463f-e0a6-2cca52789dfd",
        "colab": {
          "base_uri": "https://localhost:8080/",
          "height": 279
        }
      },
      "source": [
        "plt.xlabel('Number of Neighbors')\n",
        "plt.ylabel('Accuracy Score')\n",
        "xticks = range(1,7)\n",
        "plt.plot(xticks, scores, color='red', linestyle='solid', marker='o',\n",
        "         markerfacecolor='blue', markersize=5)\n",
        "plt.show()"
      ],
      "execution_count": 0,
      "outputs": [
        {
          "output_type": "display_data",
          "data": {
            "image/png": "[encoded data removed]",
            "text/plain": [
              "<matplotlib.figure.Figure at 0x7f45baaafc50>"
            ]
          },
          "metadata": {
            "tags": []
          }
        }
      ]
    },
    {
      "cell_type": "code",
      "metadata": {
        "id": "N-_XC4hEA0PN",
        "colab_type": "code",
        "outputId": "73eff699-c0a7-4248-880b-d6cf37ba0dbd",
        "colab": {
          "base_uri": "https://localhost:8080/",
          "height": 52
        }
      },
      "source": [
        "scores = np.array(scores)\n",
        "print(\"Optimal # of neighbors: \", scores.argmax()+1)\n",
        "print(\"Accuracy score: \", scores.max()*100)"
      ],
      "execution_count": 0,
      "outputs": [
        {
          "output_type": "stream",
          "text": [
            "Optimal # of neighbors:  1\n",
            "Accuracy score:  98.94633668218574\n"
          ],
          "name": "stdout"
        }
      ]
    }
  ]
}