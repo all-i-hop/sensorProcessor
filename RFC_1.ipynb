{
  "nbformat": 4,
  "nbformat_minor": 0,
  "metadata": {
    "colab": {
      "name": "RFC_1.ipynb",
      "version": "0.3.2",
      "provenance": [],
      "collapsed_sections": []
    },
    "kernelspec": {
      "name": "python3",
      "display_name": "Python 3"
    },
    "accelerator": "GPU"
  },
  "cells": [
    {
      "cell_type": "code",
      "metadata": {
        "id": "7qF87LxUC3yK",
        "colab_type": "code",
        "outputId": "7a5c0b83-9aed-4a75-81d1-104b8d7b3bb8",
        "colab": {
          "base_uri": "https://localhost:8080/",
          "height": 106
        }
      },
      "source": [
        "!pip install -U -q PyDrive\n",
        "import os\n",
        "import numpy as np\n",
        "import pandas as pd\n",
        "import matplotlib.pyplot as plt\n",
        "import time\n",
        "import seaborn as sn\n",
        "from sklearn.model_selection import train_test_split\n",
        "from sklearn import preprocessing, utils, svm\n",
        "import matplotlib.pyplot as plt\n",
        "from sklearn.svm import SVC\n",
        "from sklearn.model_selection import StratifiedKFold\n",
        "from sklearn.feature_selection import RFECV\n",
        "from sklearn.utils import shuffle\n",
        "from sklearn.grid_search import GridSearchCV\n",
        "from sklearn.metrics import accuracy_score, confusion_matrix\n",
        "# Load Libs for Google Collab\n",
        "from pydrive.auth import GoogleAuth\n",
        "from pydrive.drive import GoogleDrive\n",
        "from google.colab import auth\n",
        "from oauth2client.client import GoogleCredentials\n",
        "%matplotlib inline"
      ],
      "execution_count": 0,
      "outputs": [
        {
          "output_type": "stream",
          "text": [
            "/usr/local/lib/python3.6/dist-packages/sklearn/cross_validation.py:41: DeprecationWarning: This module was deprecated in version 0.18 in favor of the model_selection module into which all the refactored classes and functions are moved. Also note that the interface of the new CV iterators are different from that of this module. This module will be removed in 0.20.\n",
            "  \"This module will be removed in 0.20.\", DeprecationWarning)\n",
            "/usr/local/lib/python3.6/dist-packages/sklearn/grid_search.py:42: DeprecationWarning: This module was deprecated in version 0.18 in favor of the model_selection module into which all the refactored classes and functions are moved. This module will be removed in 0.20.\n",
            "  DeprecationWarning)\n"
          ],
          "name": "stderr"
        }
      ]
    },
    {
      "cell_type": "code",
      "metadata": {
        "id": "joVvnCkLC7Af",
        "colab_type": "code",
        "outputId": "82895385-cee0-4009-cbe0-1ecd517c9d64",
        "colab": {
          "base_uri": "https://localhost:8080/",
          "height": 295
        }
      },
      "source": [
        "# Authenticate\n",
        "auth.authenticate_user()\n",
        "gauth = GoogleAuth()\n",
        "gauth.credentials = GoogleCredentials.get_application_default()\n",
        "drive = GoogleDrive(gauth)\n",
        "from googleapiclient.discovery import build\n",
        "drive_service = build('drive', 'v3')\n",
        "listed = drive.ListFile({'q': \"title contains '.csv' and 'XXX' in parents\"}).GetList()\n",
        "for file in listed:\n",
        "  print('title {}, id {}'.format(file['title'], file['id']))\n",
        "  \n",
        "X_downloaded = drive.CreateFile({'id': 'XXX',\n",
        "                                'parents': 'XXX'})\n",
        "X_downloaded.GetContentFile('X.csv')\n",
        "y_downloaded = drive.CreateFile({'id': 'XXX',\n",
        "                                'parents': 'XXX'})\n",
        "y_downloaded.GetContentFile('y.csv')\n"
      ],
      "execution_count": 0,
      "outputs": [
        {
          "output_type": "stream",
          "text": [
            "title final_gps.csv, id 1xvb7fXI3tljcmQHpLL-zFN_sy5tZudT0\n",
            "title y.csv, id 1XllzfPQjn0fRIAYaeaHNthW4Bse34vHQ\n",
            "title X.csv, id 1gu40JLV4--waNeEhFuMrSjo4pcLZQHLG\n",
            "title dataset_resampled.csv, id 11JrgqGJ3fZBjPxnOln3XP-_Zyy9_Oltd\n",
            "title gps_resampled.csv, id 1ZlRhPOcKzvozDuegHqeZADttUCyy0yk7\n",
            "title Magnetometer_resampled.csv, id 1N99JLcBTlyMA3EvBwPOJRvwFEbRFjujA\n",
            "title Gyroscope_resampled.csv, id 11TMVVqvzqQqWPL75bA6ivBdmSiYh60Kn\n",
            "title Accelerometer_resampled.csv, id 12i3VsbCgJbXfwZ6JM5pPXzDnPMJZhg9R\n",
            "title y_test.csv, id 1RHr926Y4B8AYscEosY5oM9-odRjym5I8\n",
            "title y_train.csv, id 1JYgOsx258fyTy0IZRX5-5IphR4anUglE\n",
            "title final_gyr.csv, id 12t2rFXZAdVdj-KhhQcD6HETm2j4o_o9G\n",
            "title final_mag.csv, id 1scKZyWvepwgtoBo1jj9SsvAWLZk9VqZk\n",
            "title X_test.csv, id 1V_UGsG1wQMjfE-gBIxibreN23dnV7M6b\n",
            "title X_train.csv, id 1Nvn2kvxeVALss3kFzph7CwPI4lnqRoIf\n",
            "title final_acc.csv, id 1QzQmjP7KzB6DGn0zlbjoRt8oc1-dkEWY\n",
            "title gps_filtered.csv, id 1Vi6PK8pyqT4pa8hBJ3sCApNq0zdLowl_\n"
          ],
          "name": "stdout"
        }
      ]
    },
    {
      "cell_type": "code",
      "metadata": {
        "id": "bk1eDMCIC9dc",
        "colab_type": "code",
        "colab": {}
      },
      "source": [
        "X = pd.read_csv('X.csv', sep='\\t', decimal=',', encoding='utf-8', index_col=0)\n",
        "y = pd.read_csv('y.csv', sep='\\t', decimal=',', encoding='utf-8', index_col=0)\n",
        "\n",
        "X_train, X_test, y_train, y_test = train_test_split(X, y,\n",
        "                                                   test_size=0.2,\n",
        "                                                   random_state=52)"
      ],
      "execution_count": 0,
      "outputs": []
    },
    {
      "cell_type": "code",
      "metadata": {
        "id": "aXW3DxxP1gqh",
        "colab_type": "code",
        "outputId": "3a8dbc24-4c9a-4890-bac8-14900c254e44",
        "colab": {
          "base_uri": "https://localhost:8080/",
          "height": 52
        }
      },
      "source": [
        "print(len(X_train), len(y_train))\n",
        "print(len(X_test), len(y_test))"
      ],
      "execution_count": 0,
      "outputs": [
        {
          "output_type": "stream",
          "text": [
            "34932 34932\n",
            "8733 8733\n"
          ],
          "name": "stdout"
        }
      ]
    },
    {
      "cell_type": "code",
      "metadata": {
        "id": "2qmcsPHTDCHv",
        "colab_type": "code",
        "colab": {}
      },
      "source": [
        "from sklearn.ensemble import RandomForestClassifier\n",
        "from sklearn.grid_search import GridSearchCV"
      ],
      "execution_count": 0,
      "outputs": []
    },
    {
      "cell_type": "code",
      "metadata": {
        "id": "9qoESgQeDI8a",
        "colab_type": "code",
        "colab": {}
      },
      "source": [
        "classifier = RandomForestClassifier()"
      ],
      "execution_count": 0,
      "outputs": []
    },
    {
      "cell_type": "code",
      "metadata": {
        "id": "uYQ4-qTvDLwu",
        "colab_type": "code",
        "colab": {}
      },
      "source": [
        "parameters = {'n_estimators': [10, 100, 1000], 'max_depth': [3, 6, 9], 'max_features': ['auto']}"
      ],
      "execution_count": 0,
      "outputs": []
    },
    {
      "cell_type": "code",
      "metadata": {
        "id": "sgFo8lvJDaFf",
        "colab_type": "code",
        "outputId": "fa5306c3-29e0-46fc-b4d5-b55d87d7ef57",
        "colab": {
          "base_uri": "https://localhost:8080/",
          "height": 3421
        }
      },
      "source": [
        "print(len(X_train.as_matrix()))\n",
        "print(len(y_train.as_matrix().ravel().T))\n",
        "model = GridSearchCV(classifier, parameters, n_jobs=-1, scoring='accuracy', cv=10, verbose=4)\n",
        "model.fit(X_train.as_matrix(), y_train.as_matrix().ravel().T)"
      ],
      "execution_count": 0,
      "outputs": [
        {
          "output_type": "stream",
          "text": [
            "34932\n",
            "34932\n",
            "Fitting 10 folds for each of 9 candidates, totalling 90 fits\n",
            "[CV] max_depth=3, max_features=auto, n_estimators=10 .................\n",
            "[CV] max_depth=3, max_features=auto, n_estimators=10 .................\n",
            "[CV]  max_depth=3, max_features=auto, n_estimators=10, score=0.700886 -   0.8s\n",
            "[CV]  max_depth=3, max_features=auto, n_estimators=10, score=0.701288 -   0.7s\n",
            "[CV] max_depth=3, max_features=auto, n_estimators=10 .................\n",
            "[CV] max_depth=3, max_features=auto, n_estimators=10 .................\n",
            "[CV]  max_depth=3, max_features=auto, n_estimators=10, score=0.723240 -   0.7s\n",
            "[CV] max_depth=3, max_features=auto, n_estimators=10 .................\n",
            "[CV]  max_depth=3, max_features=auto, n_estimators=10, score=0.720092 -   0.7s\n",
            "[CV] max_depth=3, max_features=auto, n_estimators=10 .................\n",
            "[CV]  max_depth=3, max_features=auto, n_estimators=10, score=0.710564 -   0.8s\n",
            "[CV] max_depth=3, max_features=auto, n_estimators=10 .................\n",
            "[CV]  max_depth=3, max_features=auto, n_estimators=10, score=0.732894 -   0.8s\n",
            "[CV] max_depth=3, max_features=auto, n_estimators=10 .................\n",
            "[CV]  max_depth=3, max_features=auto, n_estimators=10, score=0.732035 -   1.1s\n",
            "[CV] max_depth=3, max_features=auto, n_estimators=10 .................\n",
            "[CV]  max_depth=3, max_features=auto, n_estimators=10, score=0.703407 -   1.1s\n",
            "[CV] max_depth=3, max_features=auto, n_estimators=10 .................\n",
            "[CV]  max_depth=3, max_features=auto, n_estimators=10, score=0.728653 -   1.0s\n",
            "[CV] max_depth=3, max_features=auto, n_estimators=100 ................\n",
            "[CV]  max_depth=3, max_features=auto, n_estimators=10, score=0.731519 -   1.0s\n",
            "[CV] max_depth=3, max_features=auto, n_estimators=100 ................\n",
            "[CV]  max_depth=3, max_features=auto, n_estimators=100, score=0.742203 -   9.9s\n",
            "[CV] max_depth=3, max_features=auto, n_estimators=100 ................\n",
            "[CV]  max_depth=3, max_features=auto, n_estimators=100, score=0.751501 -  10.8s\n",
            "[CV] max_depth=3, max_features=auto, n_estimators=100 ................\n",
            "[CV]  max_depth=3, max_features=auto, n_estimators=100, score=0.745850 -   9.2s\n",
            "[CV] max_depth=3, max_features=auto, n_estimators=100 ................\n",
            "[CV]  max_depth=3, max_features=auto, n_estimators=100, score=0.731540 -   9.6s\n",
            "[CV] max_depth=3, max_features=auto, n_estimators=100 ................\n",
            "[CV]  max_depth=3, max_features=auto, n_estimators=100, score=0.733181 -   9.3s\n",
            "[CV] max_depth=3, max_features=auto, n_estimators=100 ................\n",
            "[CV]  max_depth=3, max_features=auto, n_estimators=100, score=0.735185 -   9.5s\n",
            "[CV] max_depth=3, max_features=auto, n_estimators=100 ................\n",
            "[CV]  max_depth=3, max_features=auto, n_estimators=100, score=0.740052 -   9.6s\n",
            "[CV] max_depth=3, max_features=auto, n_estimators=100 ................\n",
            "[CV]  max_depth=3, max_features=auto, n_estimators=100, score=0.727169 -   9.4s\n",
            "[CV] max_depth=3, max_features=auto, n_estimators=100 ................\n",
            "[CV]  max_depth=3, max_features=auto, n_estimators=100, score=0.723782 -   9.7s\n",
            "[CV] max_depth=3, max_features=auto, n_estimators=1000 ...............\n",
            "[CV]  max_depth=3, max_features=auto, n_estimators=100, score=0.731519 -   9.5s\n",
            "[CV] max_depth=3, max_features=auto, n_estimators=1000 ...............\n",
            "[CV]  max_depth=3, max_features=auto, n_estimators=1000, score=0.746926 - 1.6min\n",
            "[CV] max_depth=3, max_features=auto, n_estimators=1000 ...............\n"
          ],
          "name": "stdout"
        },
        {
          "output_type": "stream",
          "text": [
            "[Parallel(n_jobs=-1)]: Done  21 tasks      | elapsed:  2.4min\n"
          ],
          "name": "stderr"
        },
        {
          "output_type": "stream",
          "text": [
            "[CV]  max_depth=3, max_features=auto, n_estimators=1000, score=0.728183 - 1.6min\n",
            "[CV] max_depth=3, max_features=auto, n_estimators=1000 ...............\n",
            "[CV]  max_depth=3, max_features=auto, n_estimators=1000, score=0.752433 - 1.6min\n",
            "[CV] max_depth=3, max_features=auto, n_estimators=1000 ...............\n",
            "[CV]  max_depth=3, max_features=auto, n_estimators=1000, score=0.729250 - 1.6min\n",
            "[CV] max_depth=3, max_features=auto, n_estimators=1000 ...............\n",
            "[CV]  max_depth=3, max_features=auto, n_estimators=1000, score=0.734898 - 1.6min\n",
            "[CV] max_depth=3, max_features=auto, n_estimators=1000 ...............\n",
            "[CV]  max_depth=3, max_features=auto, n_estimators=1000, score=0.728314 - 1.6min\n",
            "[CV] max_depth=3, max_features=auto, n_estimators=1000 ...............\n",
            "[CV]  max_depth=3, max_features=auto, n_estimators=1000, score=0.732608 - 1.6min\n",
            "[CV] max_depth=3, max_features=auto, n_estimators=1000 ...............\n",
            "[CV]  max_depth=3, max_features=auto, n_estimators=1000, score=0.728314 - 1.6min\n",
            "[CV] max_depth=3, max_features=auto, n_estimators=1000 ...............\n",
            "[CV]  max_depth=3, max_features=auto, n_estimators=1000, score=0.732378 - 1.6min\n",
            "[CV] max_depth=6, max_features=auto, n_estimators=10 .................\n",
            "[CV]  max_depth=6, max_features=auto, n_estimators=10, score=0.861596 -   1.8s\n",
            "[CV] max_depth=6, max_features=auto, n_estimators=10 .................\n",
            "[CV]  max_depth=3, max_features=auto, n_estimators=1000, score=0.737822 - 1.6min\n",
            "[CV] max_depth=6, max_features=auto, n_estimators=10 .................\n",
            "[CV]  max_depth=6, max_features=auto, n_estimators=10, score=0.840057 -   1.8s\n",
            "[CV] max_depth=6, max_features=auto, n_estimators=10 .................\n",
            "[CV]  max_depth=6, max_features=auto, n_estimators=10, score=0.863766 -   1.8s\n",
            "[CV] max_depth=6, max_features=auto, n_estimators=10 .................\n",
            "[CV]  max_depth=6, max_features=auto, n_estimators=10, score=0.858329 -   1.8s\n",
            "[CV] max_depth=6, max_features=auto, n_estimators=10 .................\n",
            "[CV]  max_depth=6, max_features=auto, n_estimators=10, score=0.851990 -   1.8s\n",
            "[CV] max_depth=6, max_features=auto, n_estimators=10 .................\n",
            "[CV]  max_depth=6, max_features=auto, n_estimators=10, score=0.863727 -   1.8s\n",
            "[CV] max_depth=6, max_features=auto, n_estimators=10 .................\n",
            "[CV]  max_depth=6, max_features=auto, n_estimators=10, score=0.865731 -   1.8s\n",
            "[CV] max_depth=6, max_features=auto, n_estimators=10 .................\n",
            "[CV]  max_depth=6, max_features=auto, n_estimators=10, score=0.848554 -   1.8s\n",
            "[CV] max_depth=6, max_features=auto, n_estimators=10 .................\n",
            "[CV]  max_depth=6, max_features=auto, n_estimators=10, score=0.854728 -   1.9s\n",
            "[CV] max_depth=6, max_features=auto, n_estimators=100 ................\n",
            "[CV]  max_depth=6, max_features=auto, n_estimators=10, score=0.873066 -   1.8s\n",
            "[CV] max_depth=6, max_features=auto, n_estimators=100 ................\n",
            "[CV]  max_depth=6, max_features=auto, n_estimators=100, score=0.889906 -  17.6s\n",
            "[CV] max_depth=6, max_features=auto, n_estimators=100 ................\n",
            "[CV]  max_depth=6, max_features=auto, n_estimators=100, score=0.879542 -  17.0s\n",
            "[CV] max_depth=6, max_features=auto, n_estimators=100 ................\n",
            "[CV]  max_depth=6, max_features=auto, n_estimators=100, score=0.880653 -  17.0s\n",
            "[CV] max_depth=6, max_features=auto, n_estimators=100 ................\n",
            "[CV]  max_depth=6, max_features=auto, n_estimators=100, score=0.871780 -  17.0s\n",
            "[CV] max_depth=6, max_features=auto, n_estimators=100 ................\n",
            "[CV]  max_depth=6, max_features=auto, n_estimators=100, score=0.885772 -  17.0s\n",
            "[CV] max_depth=6, max_features=auto, n_estimators=100 ................\n",
            "[CV]  max_depth=6, max_features=auto, n_estimators=100, score=0.878042 -  17.3s\n",
            "[CV] max_depth=6, max_features=auto, n_estimators=100 ................\n",
            "[CV]  max_depth=6, max_features=auto, n_estimators=100, score=0.883481 -  16.9s\n",
            "[CV] max_depth=6, max_features=auto, n_estimators=100 ................\n",
            "[CV]  max_depth=6, max_features=auto, n_estimators=100, score=0.884054 -  17.0s\n",
            "[CV] max_depth=6, max_features=auto, n_estimators=100 ................\n",
            "[CV]  max_depth=6, max_features=auto, n_estimators=100, score=0.877650 -  17.0s\n",
            "[CV] max_depth=6, max_features=auto, n_estimators=1000 ...............\n",
            "[CV]  max_depth=6, max_features=auto, n_estimators=100, score=0.873352 -  17.3s\n",
            "[CV] max_depth=6, max_features=auto, n_estimators=1000 ...............\n",
            "[CV]  max_depth=6, max_features=auto, n_estimators=1000, score=0.887332 - 2.8min\n",
            "[CV] max_depth=6, max_features=auto, n_estimators=1000 ...............\n",
            "[CV]  max_depth=6, max_features=auto, n_estimators=1000, score=0.876109 - 2.9min\n",
            "[CV] max_depth=6, max_features=auto, n_estimators=1000 ...............\n",
            "[CV]  max_depth=6, max_features=auto, n_estimators=1000, score=0.888380 - 2.8min\n",
            "[CV] max_depth=6, max_features=auto, n_estimators=1000 ...............\n",
            "[CV]  max_depth=6, max_features=auto, n_estimators=1000, score=0.882370 - 2.8min\n",
            "[CV] max_depth=6, max_features=auto, n_estimators=1000 ...............\n",
            "[CV]  max_depth=6, max_features=auto, n_estimators=1000, score=0.892929 - 2.8min\n",
            "[CV] max_depth=6, max_features=auto, n_estimators=1000 ...............\n",
            "[CV]  max_depth=6, max_features=auto, n_estimators=1000, score=0.883481 - 2.8min\n",
            "[CV] max_depth=6, max_features=auto, n_estimators=1000 ...............\n",
            "[CV]  max_depth=6, max_features=auto, n_estimators=1000, score=0.885199 - 2.8min\n",
            "[CV] max_depth=6, max_features=auto, n_estimators=1000 ...............\n",
            "[CV]  max_depth=6, max_features=auto, n_estimators=1000, score=0.888634 - 2.8min\n",
            "[CV] max_depth=6, max_features=auto, n_estimators=1000 ...............\n",
            "[CV]  max_depth=6, max_features=auto, n_estimators=1000, score=0.890258 - 2.8min\n",
            "[CV] max_depth=9, max_features=auto, n_estimators=10 .................\n",
            "[CV]  max_depth=6, max_features=auto, n_estimators=1000, score=0.889685 - 2.9min\n",
            "[CV] max_depth=9, max_features=auto, n_estimators=10 .................\n",
            "[CV]  max_depth=9, max_features=auto, n_estimators=10, score=0.944810 -   2.4s\n",
            "[CV] max_depth=9, max_features=auto, n_estimators=10 .................\n",
            "[CV]  max_depth=9, max_features=auto, n_estimators=10, score=0.933619 -   2.4s\n",
            "[CV] max_depth=9, max_features=auto, n_estimators=10 .................\n",
            "[CV]  max_depth=9, max_features=auto, n_estimators=10, score=0.943045 -   2.4s\n",
            "[CV] max_depth=9, max_features=auto, n_estimators=10 .................\n",
            "[CV]  max_depth=9, max_features=auto, n_estimators=10, score=0.941614 -   2.4s\n",
            "[CV] max_depth=9, max_features=auto, n_estimators=10 .................\n",
            "[CV]  max_depth=9, max_features=auto, n_estimators=10, score=0.943029 -   2.5s\n",
            "[CV] max_depth=9, max_features=auto, n_estimators=10 .................\n",
            "[CV]  max_depth=9, max_features=auto, n_estimators=10, score=0.947037 -   2.4s\n",
            "[CV] max_depth=9, max_features=auto, n_estimators=10 .................\n",
            "[CV]  max_depth=9, max_features=auto, n_estimators=10, score=0.941311 -   2.5s\n",
            "[CV] max_depth=9, max_features=auto, n_estimators=10 .................\n",
            "[CV]  max_depth=9, max_features=auto, n_estimators=10, score=0.952763 -   2.4s\n",
            "[CV] max_depth=9, max_features=auto, n_estimators=10 .................\n",
            "[CV]  max_depth=9, max_features=auto, n_estimators=10, score=0.943840 -   2.6s\n",
            "[CV] max_depth=9, max_features=auto, n_estimators=100 ................\n",
            "[CV]  max_depth=9, max_features=auto, n_estimators=10, score=0.952436 -   2.4s\n",
            "[CV] max_depth=9, max_features=auto, n_estimators=100 ................\n",
            "[CV]  max_depth=9, max_features=auto, n_estimators=100, score=0.955676 -  23.5s\n",
            "[CV] max_depth=9, max_features=auto, n_estimators=100 ................\n",
            "[CV]  max_depth=9, max_features=auto, n_estimators=100, score=0.949070 -  22.9s\n",
            "[CV] max_depth=9, max_features=auto, n_estimators=100 ................\n",
            "[CV]  max_depth=9, max_features=auto, n_estimators=100, score=0.956783 -  23.2s\n",
            "[CV] max_depth=9, max_features=auto, n_estimators=100 ................\n",
            "[CV]  max_depth=9, max_features=auto, n_estimators=100, score=0.949342 -  23.7s\n",
            "[CV] max_depth=9, max_features=auto, n_estimators=100 ................\n",
            "[CV]  max_depth=9, max_features=auto, n_estimators=100, score=0.956484 -  23.3s\n",
            "[CV] max_depth=9, max_features=auto, n_estimators=100 ................\n",
            "[CV]  max_depth=9, max_features=auto, n_estimators=100, score=0.957630 -  23.3s\n",
            "[CV] max_depth=9, max_features=auto, n_estimators=100 ................\n",
            "[CV]  max_depth=9, max_features=auto, n_estimators=100, score=0.951045 -  23.1s\n",
            "[CV] max_depth=9, max_features=auto, n_estimators=100 ................\n",
            "[CV]  max_depth=9, max_features=auto, n_estimators=100, score=0.957057 -  23.4s\n",
            "[CV] max_depth=9, max_features=auto, n_estimators=100 ................\n",
            "[CV]  max_depth=9, max_features=auto, n_estimators=100, score=0.961318 -  23.0s\n",
            "[CV] max_depth=9, max_features=auto, n_estimators=1000 ...............\n",
            "[CV]  max_depth=9, max_features=auto, n_estimators=100, score=0.957593 -  23.4s\n",
            "[CV] max_depth=9, max_features=auto, n_estimators=1000 ...............\n",
            "[CV]  max_depth=9, max_features=auto, n_estimators=1000, score=0.956820 - 3.9min\n",
            "[CV] max_depth=9, max_features=auto, n_estimators=1000 ...............\n",
            "[CV]  max_depth=9, max_features=auto, n_estimators=1000, score=0.949642 - 3.9min\n",
            "[CV] max_depth=9, max_features=auto, n_estimators=1000 ...............\n",
            "[CV]  max_depth=9, max_features=auto, n_estimators=1000, score=0.950773 - 3.8min\n",
            "[CV] max_depth=9, max_features=auto, n_estimators=1000 ...............\n",
            "[CV]  max_depth=9, max_features=auto, n_estimators=1000, score=0.956211 - 3.9min\n",
            "[CV] max_depth=9, max_features=auto, n_estimators=1000 ...............\n",
            "[CV]  max_depth=9, max_features=auto, n_estimators=1000, score=0.955912 - 3.9min\n",
            "[CV] max_depth=9, max_features=auto, n_estimators=1000 ...............\n",
            "[CV]  max_depth=9, max_features=auto, n_estimators=1000, score=0.952763 - 3.9min\n",
            "[CV] max_depth=9, max_features=auto, n_estimators=1000 ...............\n",
            "[CV]  max_depth=9, max_features=auto, n_estimators=1000, score=0.949327 - 3.9min\n",
            "[CV] max_depth=9, max_features=auto, n_estimators=1000 ...............\n",
            "[CV]  max_depth=9, max_features=auto, n_estimators=1000, score=0.955626 - 3.8min\n",
            "[CV] max_depth=9, max_features=auto, n_estimators=1000 ...............\n",
            "[CV]  max_depth=9, max_features=auto, n_estimators=1000, score=0.957593 - 3.8min\n",
            "[CV]  max_depth=9, max_features=auto, n_estimators=1000, score=0.957307 - 3.9min\n"
          ],
          "name": "stdout"
        },
        {
          "output_type": "stream",
          "text": [
            "[Parallel(n_jobs=-1)]: Done  90 out of  90 | elapsed: 46.0min finished\n"
          ],
          "name": "stderr"
        },
        {
          "output_type": "execute_result",
          "data": {
            "text/plain": [
              "GridSearchCV(cv=10, error_score='raise',\n",
              "       estimator=RandomForestClassifier(bootstrap=True, class_weight=None, criterion='gini',\n",
              "            max_depth=None, max_features='auto', max_leaf_nodes=None,\n",
              "            min_impurity_decrease=0.0, min_impurity_split=None,\n",
              "            min_samples_leaf=1, min_samples_split=2,\n",
              "            min_weight_fraction_leaf=0.0, n_estimators=10, n_jobs=1,\n",
              "            oob_score=False, random_state=None, verbose=0,\n",
              "            warm_start=False),\n",
              "       fit_params={}, iid=True, n_jobs=-1,\n",
              "       param_grid={'n_estimators': [10, 100, 1000], 'max_depth': [3, 6, 9], 'max_features': ['auto']},\n",
              "       pre_dispatch='2*n_jobs', refit=True, scoring='accuracy', verbose=4)"
            ]
          },
          "metadata": {
            "tags": []
          },
          "execution_count": 8
        }
      ]
    },
    {
      "cell_type": "code",
      "metadata": {
        "id": "R_QYvvpCJh34",
        "colab_type": "code",
        "outputId": "5f015939-4ced-4deb-8b0f-50139bbec5ac",
        "colab": {
          "base_uri": "https://localhost:8080/",
          "height": 173
        }
      },
      "source": [
        "model.grid_scores_"
      ],
      "execution_count": 0,
      "outputs": [
        {
          "output_type": "execute_result",
          "data": {
            "text/plain": [
              "[mean: 0.71845, std: 0.01259, params: {'max_depth': 3, 'max_features': 'auto', 'n_estimators': 10},\n",
              " mean: 0.73620, std: 0.00817, params: {'max_depth': 3, 'max_features': 'auto', 'n_estimators': 100},\n",
              " mean: 0.73511, std: 0.00797, params: {'max_depth': 3, 'max_features': 'auto', 'n_estimators': 1000},\n",
              " mean: 0.85815, std: 0.00908, params: {'max_depth': 6, 'max_features': 'auto', 'n_estimators': 10},\n",
              " mean: 0.88042, std: 0.00529, params: {'max_depth': 6, 'max_features': 'auto', 'n_estimators': 100},\n",
              " mean: 0.88644, std: 0.00458, params: {'max_depth': 6, 'max_features': 'auto', 'n_estimators': 1000},\n",
              " mean: 0.94435, std: 0.00528, params: {'max_depth': 9, 'max_features': 'auto', 'n_estimators': 10},\n",
              " mean: 0.95520, std: 0.00382, params: {'max_depth': 9, 'max_features': 'auto', 'n_estimators': 100},\n",
              " mean: 0.95420, std: 0.00309, params: {'max_depth': 9, 'max_features': 'auto', 'n_estimators': 1000}]"
            ]
          },
          "metadata": {
            "tags": []
          },
          "execution_count": 9
        }
      ]
    },
    {
      "cell_type": "code",
      "metadata": {
        "id": "hUFbWd5nDnkd",
        "colab_type": "code",
        "colab": {}
      },
      "source": [
        "y_pred = model.predict(X_test)\n",
        "accuracy = accuracy_score(y_test, y_pred)"
      ],
      "execution_count": 0,
      "outputs": []
    },
    {
      "cell_type": "code",
      "metadata": {
        "id": "rihmuv8ADucK",
        "colab_type": "code",
        "outputId": "8721becb-a381-47ca-c61d-76c4fc4fb73b",
        "colab": {
          "base_uri": "https://localhost:8080/",
          "height": 52
        }
      },
      "source": [
        "print(\"Best paramaters: \", model.best_params_)\n",
        "print(\"Accuracy score: \", accuracy*100)"
      ],
      "execution_count": 0,
      "outputs": [
        {
          "output_type": "stream",
          "text": [
            "Best paramaters:  {'max_depth': 9, 'max_features': 'auto', 'n_estimators': 100}\n",
            "Accuracy score:  95.24791022558114\n"
          ],
          "name": "stdout"
        }
      ]
    },
    {
      "cell_type": "code",
      "metadata": {
        "id": "lIzAPjx5MmTR",
        "colab_type": "code",
        "outputId": "169f008d-e5d8-4ffa-e3e2-44f7a10ae9c3",
        "colab": {
          "base_uri": "https://localhost:8080/",
          "height": 269
        }
      },
      "source": [
        "LABELS = ['Bike', 'Car', 'Jogging', 'Metro', 'Tram', 'Train', 'Walking']\n",
        "\n",
        "cfm = pd.DataFrame(confusion_matrix(y_test, y_pred))\n",
        "\n",
        "cfm.index = LABELS\n",
        "cfm.columns = LABELS\n",
        "\n",
        "cfm"
      ],
      "execution_count": 0,
      "outputs": [
        {
          "output_type": "execute_result",
          "data": {
            "text/html": [
              "<div>\n",
              "<style scoped>\n",
              "    .dataframe tbody tr th:only-of-type {\n",
              "        vertical-align: middle;\n",
              "    }\n",
              "\n",
              "    .dataframe tbody tr th {\n",
              "        vertical-align: top;\n",
              "    }\n",
              "\n",
              "    .dataframe thead th {\n",
              "        text-align: right;\n",
              "    }\n",
              "</style>\n",
              "<table border=\"1\" class=\"dataframe\">\n",
              "  <thead>\n",
              "    <tr style=\"text-align: right;\">\n",
              "      <th></th>\n",
              "      <th>Bike</th>\n",
              "      <th>Car</th>\n",
              "      <th>Jogging</th>\n",
              "      <th>Metro</th>\n",
              "      <th>Tram</th>\n",
              "      <th>Train</th>\n",
              "      <th>Walking</th>\n",
              "    </tr>\n",
              "  </thead>\n",
              "  <tbody>\n",
              "    <tr>\n",
              "      <th>Bike</th>\n",
              "      <td>1126</td>\n",
              "      <td>2</td>\n",
              "      <td>0</td>\n",
              "      <td>8</td>\n",
              "      <td>1</td>\n",
              "      <td>22</td>\n",
              "      <td>9</td>\n",
              "    </tr>\n",
              "    <tr>\n",
              "      <th>Car</th>\n",
              "      <td>1</td>\n",
              "      <td>1142</td>\n",
              "      <td>0</td>\n",
              "      <td>3</td>\n",
              "      <td>9</td>\n",
              "      <td>0</td>\n",
              "      <td>1</td>\n",
              "    </tr>\n",
              "    <tr>\n",
              "      <th>Jogging</th>\n",
              "      <td>0</td>\n",
              "      <td>2</td>\n",
              "      <td>1019</td>\n",
              "      <td>0</td>\n",
              "      <td>0</td>\n",
              "      <td>0</td>\n",
              "      <td>3</td>\n",
              "    </tr>\n",
              "    <tr>\n",
              "      <th>Metro</th>\n",
              "      <td>6</td>\n",
              "      <td>7</td>\n",
              "      <td>0</td>\n",
              "      <td>1243</td>\n",
              "      <td>108</td>\n",
              "      <td>49</td>\n",
              "      <td>5</td>\n",
              "    </tr>\n",
              "    <tr>\n",
              "      <th>Tram</th>\n",
              "      <td>8</td>\n",
              "      <td>11</td>\n",
              "      <td>0</td>\n",
              "      <td>54</td>\n",
              "      <td>1061</td>\n",
              "      <td>10</td>\n",
              "      <td>3</td>\n",
              "    </tr>\n",
              "    <tr>\n",
              "      <th>Train</th>\n",
              "      <td>8</td>\n",
              "      <td>13</td>\n",
              "      <td>1</td>\n",
              "      <td>28</td>\n",
              "      <td>20</td>\n",
              "      <td>1366</td>\n",
              "      <td>3</td>\n",
              "    </tr>\n",
              "    <tr>\n",
              "      <th>Walking</th>\n",
              "      <td>7</td>\n",
              "      <td>3</td>\n",
              "      <td>1</td>\n",
              "      <td>8</td>\n",
              "      <td>0</td>\n",
              "      <td>1</td>\n",
              "      <td>1361</td>\n",
              "    </tr>\n",
              "  </tbody>\n",
              "</table>\n",
              "</div>"
            ],
            "text/plain": [
              "         Bike   Car  Jogging  Metro  Tram  Train  Walking\n",
              "Bike     1126     2        0      8     1     22        9\n",
              "Car         1  1142        0      3     9      0        1\n",
              "Jogging     0     2     1019      0     0      0        3\n",
              "Metro       6     7        0   1243   108     49        5\n",
              "Tram        8    11        0     54  1061     10        3\n",
              "Train       8    13        1     28    20   1366        3\n",
              "Walking     7     3        1      8     0      1     1361"
            ]
          },
          "metadata": {
            "tags": []
          },
          "execution_count": 12
        }
      ]
    }
  ]
}