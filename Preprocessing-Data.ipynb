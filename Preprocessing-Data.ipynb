{
 "cells": [
  {
   "cell_type": "code",
   "execution_count": 1,
   "metadata": {
    "colab": {},
    "colab_type": "code",
    "id": "uD4Wv4azQDIZ"
   },
   "outputs": [],
   "source": [
    "#################\n",
    "#### IMPORTS ####\n",
    "#################\n",
    "import json, urllib.request\n",
    "import pandas as pd\n",
    "import numpy as np\n",
    "import os\n",
    "from pandas.io.json import json_normalize\n",
    "from pandas import concat\n",
    "from scipy import stats\n",
    "import datetime\n",
    "from scipy.ndimage import gaussian_filter\n",
    "import matplotlib as mpl\n",
    "import matplotlib.pyplot as plt\n",
    "from ipywidgets import interact, fixed\n",
    "from scipy.signal import argrelmin, argrelmax, butter, lfilter, freqz\n",
    "from sklearn import preprocessing\n",
    "from sklearn.model_selection import train_test_split\n",
    "%matplotlib inline\n"
   ]
  },
  {
   "cell_type": "code",
   "execution_count": 2,
   "metadata": {
    "colab": {},
    "colab_type": "code",
    "id": "bS1m-ZjYQDIk",
    "outputId": "3d56c7ba-3409-4310-cdc1-1724a50034eb"
   },
   "outputs": [
    {
     "name": "stdout",
     "output_type": "stream",
     "text": [
      "Loading ACC data from DB --> DONE\n",
      "Loading GYR data from DB --> DONE\n",
      "Loading MAG data from DB --> DONE\n",
      "Loading GPS data from DB --> DONE\n",
      "Loading Activity data from DB --> DONE\n",
      "   activity_id activity_list\n",
      "0            0         DUMMY\n",
      "1            1          Bike\n",
      "2            2           Car\n",
      "3            3       Jogging\n",
      "4            4         Metro\n",
      "5            5          Tram\n",
      "6            6         Train\n",
      "7            7       Walking\n"
     ]
    }
   ],
   "source": [
    "#######################\n",
    "#### LOAD DATASETS ####\n",
    "#######################\n",
    "\n",
    "API_URL = 'https://api.mlab.com/api/1/databases/prototype/collections/'\n",
    "API_KEY = 'XXX'\n",
    "\n",
    "with urllib.request.urlopen(API_URL + 'Accelerometer?apiKey='+ API_KEY) as url:\n",
    "    data_acc = json.loads(url.read().decode())\n",
    "print(\"Loading ACC data from DB --> DONE\")\n",
    "with urllib.request.urlopen(API_URL + 'Gyroscope?apiKey=' + API_KEY) as url:\n",
    "    data_gyr = json.loads(url.read().decode())\n",
    "print(\"Loading GYR data from DB --> DONE\")\n",
    "with urllib.request.urlopen(API_URL + 'Magnetometer?apiKey=' + API_KEY) as url:\n",
    "    data_mag = json.loads(url.read().decode())\n",
    "print(\"Loading MAG data from DB --> DONE\")\n",
    "with urllib.request.urlopen(API_URL + 'GPS?apiKey=' + API_KEY) as url:\n",
    "    data_gps = json.loads(url.read().decode())\n",
    "print(\"Loading GPS data from DB --> DONE\")\n",
    "with urllib.request.urlopen(API_URL + 'activities?apiKey=' + API_KEY) as url:\n",
    "    data_act = json.loads(url.read().decode())\n",
    "print(\"Loading Activity data from DB --> DONE\")\n",
    "\n",
    "def createBackup():\n",
    "    curDate = datetime.datetime.today().strftime('%Y-%m-%d')\n",
    "    backupFolder = 'backup/'\n",
    "    with open(backupFolder+curDate+'_acc.txt', 'w') as outfile:  \n",
    "        json.dump(data_acc, outfile)\n",
    "    with open(backupFolder+curDate+'_gyr.txt', 'w') as outfile:  \n",
    "        json.dump(data_gyr, outfile)\n",
    "    with open(backupFolder+curDate+'_mag.txt', 'w') as outfile:  \n",
    "        json.dump(data_mag, outfile)\n",
    "    with open(backupFolder+curDate+'_gps.txt', 'w') as outfile:  \n",
    "        json.dump(data_gps, outfile)\n",
    "    with open(backupFolder+curDate+'_act.txt', 'w') as outfile:  \n",
    "        json.dump(data_act, outfile)\n",
    "    \n",
    "\n",
    "#createBackup()\n",
    "act_id = [0, 1, 2, 3, 4, 5, 6, 7]\n",
    "act_list = ['DUMMY', 'Bike', 'Car', 'Jogging', 'Metro', 'Tram', 'Train', 'Walking']\n",
    "df_actList = pd.DataFrame({'activity_id':act_id, 'activity_list':act_list})\n",
    "print(df_actList)\n",
    "    \n",
    "df_acc = pd.DataFrame(data_acc)\n",
    "df_gyr = pd.DataFrame(data_gyr)\n",
    "df_mag = pd.DataFrame(data_mag)\n",
    "df_gps = pd.DataFrame(data_gps)\n",
    "\n",
    "# Basic info about activities (id, start, stop, activityType)\n",
    "# will get mapped with other sensor data at a later point\n",
    "df_actBasic = pd.DataFrame(data_act) "
   ]
  },
  {
   "cell_type": "code",
   "execution_count": 3,
   "metadata": {
    "colab": {},
    "colab_type": "code",
    "id": "KHMm0fptQDIu"
   },
   "outputs": [],
   "source": [
    "### FOR COSMETIC REASONS ###\n",
    "df_actBasic = df_actBasic.drop(['model', 'serialNumber', 'systemVersion'], axis = 1)"
   ]
  },
  {
   "cell_type": "code",
   "execution_count": 0,
   "metadata": {
    "colab": {},
    "colab_type": "code",
    "id": "-KMvoAy9QDI2"
   },
   "outputs": [],
   "source": [
    "print(df_acc.head())"
   ]
  },
  {
   "cell_type": "code",
   "execution_count": 4,
   "metadata": {
    "colab": {},
    "colab_type": "code",
    "id": "wkjG-1dWQDJB",
    "outputId": "ad4516fe-40d7-45a7-fdd7-3623752f5370"
   },
   "outputs": [
    {
     "name": "stderr",
     "output_type": "stream",
     "text": [
      "/Users/alhirz/anaconda3/envs/analysis/lib/python3.6/site-packages/ipykernel_launcher.py:9: SettingWithCopyWarning: \n",
      "A value is trying to be set on a copy of a slice from a DataFrame\n",
      "\n",
      "See the caveats in the documentation: http://pandas.pydata.org/pandas-docs/stable/indexing.html#indexing-view-versus-copy\n",
      "  if __name__ == '__main__':\n"
     ]
    }
   ],
   "source": [
    "#########################\n",
    "#### Rename ID field ####\n",
    "#########################\n",
    "\n",
    "def renameIdField(newDataFrame):\n",
    "    for key, value in newDataFrame['_id'].iteritems():\n",
    "        value_new = value.get('$oid')\n",
    "        newDataFrame['_id'][key] = value_new\n",
    "    return newDataFrame\n",
    "\n",
    "df_acc = renameIdField(df_acc)\n",
    "df_gyr = renameIdField(df_gyr)\n",
    "df_mag = renameIdField(df_mag)\n",
    "df_gps = renameIdField(df_gps)\n",
    "df_actBasic = renameIdField(df_actBasic)"
   ]
  },
  {
   "cell_type": "code",
   "execution_count": 5,
   "metadata": {
    "colab": {},
    "colab_type": "code",
    "id": "QgekyWLAQDJT"
   },
   "outputs": [],
   "source": [
    "#######################\n",
    "#### SET temp VARs ####\n",
    "#######################\n",
    "\n",
    "\n",
    "# Defining temp arrays for filling with necessary data\n",
    "# temp vars for Acc, Gyro, Magn\n",
    "temp_x = []\n",
    "temp_y = []\n",
    "temp_z = []\n",
    "temp_ts = []\n",
    "\n",
    "\n",
    "# temp vars for gps data\n",
    "temp_accuracy = []\n",
    "temp_heading = []\n",
    "temp_lat = []\n",
    "temp_long = []\n",
    "temp_speed = []\n",
    "temp_timestamp = []\n",
    "\n",
    "# temp var for mapping sensor data to defined Activity\n",
    "temp_id = []\n",
    "dict_act_id = dict(df_actBasic[['_id','definedActivity']].values)\n",
    "dict_act_start = dict(df_actBasic[['_id','startTime']].values)\n",
    "dict_act_end = dict(df_actBasic[['_id','endTime']].values)\n"
   ]
  },
  {
   "cell_type": "code",
   "execution_count": 6,
   "metadata": {
    "colab": {},
    "colab_type": "code",
    "id": "oiIiGO1mQDJa"
   },
   "outputs": [],
   "source": [
    "##############################################\n",
    "#### RESET temp data after each assigning ####\n",
    "##############################################\n",
    "\n",
    "def resetTempData():\n",
    "    global temp_id, temp_x, temp_y, temp_z, temp_ts\n",
    "    temp_id.clear(), temp_x.clear(), temp_y.clear(), temp_z.clear(), temp_ts.clear()    "
   ]
  },
  {
   "cell_type": "code",
   "execution_count": 7,
   "metadata": {
    "colab": {},
    "colab_type": "code",
    "id": "pnRxGTj6QDJh"
   },
   "outputs": [],
   "source": [
    "#####################################################\n",
    "#### EXTRACT from DF, SAVE it in temporary lists ####\n",
    "#####################################################\n",
    "\n",
    "def extractSensorData(dataFrame, isGpsData):\n",
    "    for key, value in dataFrame['data'].iteritems():\n",
    "        for idx, val in enumerate(value):\n",
    "            for s, x in val.items():\n",
    "                temp_id.append(dataFrame['_id'][key])\n",
    "                if not (isGpsData):\n",
    "                    temp_x.append(x.get('x'))\n",
    "                    temp_y.append(x.get('y'))\n",
    "                    temp_z.append(x.get('z'))\n",
    "                    temp_ts.append(x.get('timestamp'))\n",
    "\n",
    "                if (isGpsData):\n",
    "                    temp_lat.append(x.get('latitude'))\n",
    "                    temp_long.append(x.get('longitude'))\n",
    "                    temp_timestamp.append(x.get('timestamp'))\n",
    "                    temp_accuracy.append(x.get('accuracy'))\n",
    "                    temp_heading.append(x.get('heading'))\n",
    "                    temp_speed.append(x.get('speed'))"
   ]
  },
  {
   "cell_type": "code",
   "execution_count": 8,
   "metadata": {
    "colab": {},
    "colab_type": "code",
    "id": "WAk1pfYfQDJm"
   },
   "outputs": [],
   "source": [
    "########################################\n",
    "#### ADD temp data to new DataFrame ####\n",
    "########################################\n",
    "\n",
    "def addToDf(newDataFrame, isGpsData):   \n",
    "    newDataFrame = pd.DataFrame(temp_id, columns=['activityId']) \n",
    "    if not (isGpsData):\n",
    "        newDataFrame['timestamp'] = pd.Series(temp_ts)\n",
    "        newDataFrame['x'] = pd.Series(temp_x)\n",
    "        newDataFrame['y'] = pd.Series(temp_y)\n",
    "        newDataFrame['z'] = pd.Series(temp_z)\n",
    "    if (isGpsData):\n",
    "        newDataFrame['lat'] = pd.Series(temp_lat)\n",
    "        newDataFrame['long'] = pd.Series(temp_long)\n",
    "        newDataFrame['timestamp'] = pd.Series(temp_timestamp)\n",
    "        newDataFrame['accuracy'] = pd.Series(temp_accuracy)\n",
    "        newDataFrame['heading'] = pd.Series(temp_heading)\n",
    "        newDataFrame['speed'] = pd.Series(temp_speed)\n",
    "           \n",
    "    newDataFrame['definedActivity'] = newDataFrame.activityId.replace(dict_act_id)\n",
    "    return newDataFrame"
   ]
  },
  {
   "cell_type": "code",
   "execution_count": 9,
   "metadata": {
    "colab": {},
    "colab_type": "code",
    "id": "XV1WPfXMQDJq",
    "outputId": "1d0a4177-87d1-43a2-9c2c-df5710e71083"
   },
   "outputs": [
    {
     "name": "stdout",
     "output_type": "stream",
     "text": [
      "ACC done\n",
      "GYR done\n",
      "MAG done\n",
      "GPS done\n"
     ]
    }
   ],
   "source": [
    "#################################\n",
    "#### GENERATE new DataFrames ####\n",
    "#################################\n",
    "\n",
    "# Building Accelerometer Data\n",
    "extractSensorData(df_acc)\n",
    "df_acc_new = addToDf(df_acc, False).sort_values('timestamp')\n",
    "resetTempData()\n",
    "print('ACC done')\n",
    "\n",
    "# Building Gyroscope Data\n",
    "extractSensorData(df_gyr, False)\n",
    "df_gyr_new = addToDf(df_gyr, False).sort_values('timestamp')\n",
    "resetTempData()\n",
    "print('GYR done')\n",
    "\n",
    "# Building Magnetometer Data\n",
    "extractSensorData(df_mag, False)\n",
    "df_mag_new = addToDf(df_mag, False).sort_values('timestamp')\n",
    "resetTempData()\n",
    "print('MAG done')\n",
    "\n",
    "# Building GPS Data\n",
    "extractSensorData(df_gps, True)\n",
    "df_gps_new = addToDf(df_gps, True).sort_values('timestamp')\n",
    "resetTempData()\n",
    "print('GPS done')"
   ]
  },
  {
   "cell_type": "code",
   "execution_count": 10,
   "metadata": {
    "colab": {},
    "colab_type": "code",
    "id": "Yr0EC1WTQDJw",
    "outputId": "6bca968e-11c7-494d-882e-9c792f233772"
   },
   "outputs": [
    {
     "name": "stdout",
     "output_type": "stream",
     "text": [
      "Length  657990  |  633390  ->  24600\n",
      "Length  662671  |  638071  ->  24600\n",
      "Length  357616  |  333016  ->  24600\n",
      "Amount of activities:  82\n"
     ]
    }
   ],
   "source": [
    "#######################################################################\n",
    "###################### DROP 5s from Start & End #######################\n",
    "#######################################################################\n",
    "\n",
    "list_activities = df_acc_new['activityId'].unique()\n",
    "\n",
    "def cropStartEnd(df_toCrop):\n",
    "    df_cut = pd.DataFrame()\n",
    "    for activity in list_activities:\n",
    "        act_in_df = df_toCrop['activityId'] == activity\n",
    "        df_cur_act = df_toCrop[act_in_df]\n",
    "        \n",
    "        crop_start = df_cur_act.index[:150]\n",
    "        df_cur_act = df_cur_act.drop(crop_start)\n",
    "        \n",
    "        crop_end = df_cur_act.iloc[:-150]\n",
    "        df_cur_act = crop_end\n",
    "        \n",
    "        df_cut = df_cut.append(df_cur_act)\n",
    "    df_cut = df_cut.reset_index().drop('index', axis=1)\n",
    "    print(\"Length \", len(df_toCrop), \" | \", len(df_cut), \" -> \", int(len(df_toCrop)-len(df_cut)))\n",
    "    return df_cut\n",
    "    \n",
    "df_acc_cut = cropStartEnd(df_acc_new)\n",
    "df_gyr_cut = cropStartEnd(df_gyr_new)\n",
    "df_mag_cut = cropStartEnd(df_mag_new)\n",
    "\n",
    "print(\"Amount of activities: \",len(list_activities))"
   ]
  },
  {
   "cell_type": "code",
   "execution_count": 0,
   "metadata": {
    "colab": {},
    "colab_type": "code",
    "id": "Q6od00J7QDJz"
   },
   "outputs": [],
   "source": []
  },
  {
   "cell_type": "code",
   "execution_count": 0,
   "metadata": {
    "colab": {},
    "colab_type": "code",
    "id": "G-VgLip3QDJ3"
   },
   "outputs": [],
   "source": [
    "def overview_plot(activity):\n",
    "    if activity==0:\n",
    "        for c in range(1,8):\n",
    "            plt.plot(df_acc_new[df_acc_new['definedActivity'] == int(c)]['magnitude'])\n",
    "    else:\n",
    "        plt.plot(df_acc_new[df_acc_new['definedActivity'] == int(activity)]['magnitude'])\n",
    "    plt.title('magnitude of acc by activities')\n",
    "    plt.ticklabel_format(axis='definedActivities', scilimit=(0,0))\n",
    "    plt.legend(range(1,8))"
   ]
  },
  {
   "cell_type": "code",
   "execution_count": 0,
   "metadata": {
    "colab": {},
    "colab_type": "code",
    "id": "6QZOoaIRQDJ7"
   },
   "outputs": [],
   "source": [
    "#columns_to_drop = ['timestamp', 'activityId','index']\n",
    "columns_to_drop = ['timestamp','index', 'definedActivity']\n",
    "\n",
    "\n",
    "def plotActivity(df, act):\n",
    "    act_in_df = df['activityId'] == act\n",
    "    df_cur_act = df[act_in_df]\n",
    "    df_cur_act = df_cur_act.reset_index().drop(columns_to_drop, axis=1)\n",
    "    df_cur_act.plot(subplots = True,\n",
    "                    figsize = (14,12)#,\n",
    "                    #ylim = (min(df['x']), max(df['x']))\n",
    "                   )"
   ]
  },
  {
   "cell_type": "code",
   "execution_count": 11,
   "metadata": {
    "colab": {},
    "colab_type": "code",
    "id": "rVaMDZQhQDKJ"
   },
   "outputs": [],
   "source": [
    "def butter_lowpass(cutoff, fs, order):\n",
    "    nyq = 0.5 * fs\n",
    "    normal_cutoff = cutoff / nyq\n",
    "    b, a = butter(order, normal_cutoff, btype='low', analog=False)\n",
    "    return b, a\n",
    "\n",
    "def butter_lowpass_filter(data, cutoff, fs, order=5):\n",
    "    b, a = butter_lowpass(cutoff, fs, order=order)\n",
    "    y = lfilter(b, a, data)\n",
    "    return y\n",
    "\n",
    "\n",
    "order = 6\n",
    "fs = 20\n",
    "cutoff = 1\n",
    "\n",
    "b, a = butter_lowpass(cutoff, fs, order)\n",
    "\n",
    "def denoiseSensor(sensorDataFrame,outputFile):\n",
    "    newDataFrame = sensorDataFrame\n",
    "    #newDataFrame = pd.DataFrame()\n",
    "    for q in ['x', 'y', 'z']:   \n",
    "        filter_data = sensorDataFrame[q]\n",
    "        \n",
    "        filter_test_x = range(len(filter_data))\n",
    "        filter_test_yL = butter_lowpass_filter(filter_data, cutoff, fs, order)\n",
    "        \n",
    "        f, (ax1, ax2) = plt.subplots(2, sharex=True, sharey=False, figsize=(12,12))\n",
    "        ax1.set_title('FFT Data transform: ' + q)\n",
    "        ax1.plot(filter_test_x, filter_data, label='Original data')\n",
    "        ax1.set_ylim([min(filter_data), max(filter_data)])\n",
    "        \n",
    "        ax2.plot(filter_test_x, filter_test_yL, label='Low Pass filter')\n",
    "        plt.savefig(\"plots/\"+outputFile+str(q)+\"_noise.png\")\n",
    "        ax2.set_ylim([min(filter_data), max(filter_data)])\n",
    "\n",
    "        plt.xlim(0, len(filter_data))\n",
    "        f.subplots_adjust(hspace=0.1)\n",
    "        \n",
    "        newDataFrame[q] = filter_test_yL\n",
    "\n",
    "    return newDataFrame"
   ]
  },
  {
   "cell_type": "code",
   "execution_count": 0,
   "metadata": {
    "colab": {},
    "colab_type": "code",
    "id": "9Uv4YeB9QDKO"
   },
   "outputs": [],
   "source": [
    "def testDenoise():\n",
    "    w, h = freqz(b, a, worN=8000)\n",
    "    plt.subplot(2, 1, 1)\n",
    "    plt.plot(0.5*fs*w/np.pi, np.abs(h), 'b')\n",
    "    plt.plot(cutoff, 0.5*np.sqrt(2), 'ko')\n",
    "    plt.axvline(cutoff, color='k')\n",
    "    plt.xlim(0, 2)\n",
    "    plt.title(\"Lowpass Filter Frequency Response\")\n",
    "    plt.xlabel('Frequency [Hz]')\n",
    "    plt.grid()\n",
    "    \n",
    "testDenoise()"
   ]
  },
  {
   "cell_type": "code",
   "execution_count": 12,
   "metadata": {
    "colab": {},
    "colab_type": "code",
    "id": "pMc1yReEQDKc"
   },
   "outputs": [
    {
     "data": {
      "image/png": "[encoded data removed]",
      "text/plain": [
       "<Figure size 864x864 with 2 Axes>"
      ]
     },
     "metadata": {},
     "output_type": "display_data"
    },
    {
     "data": {
      "image/png": "[encoded data removed]",
      "text/plain": [
       "<Figure size 864x864 with 2 Axes>"
      ]
     },
     "metadata": {},
     "output_type": "display_data"
    },
    {
     "data": {
      "image/png": "[encoded data removed]",
      "text/plain": [
       "<Figure size 864x864 with 2 Axes>"
      ]
     },
     "metadata": {},
     "output_type": "display_data"
    }
   ],
   "source": [
    "df_acc_denoise = denoiseSensor(df_acc_cut, 'ACC_')\n",
    "df_gyr_denoise = df_gyr_cut\n",
    "df_mag_denoise = df_mag_cut"
   ]
  },
  {
   "cell_type": "code",
   "execution_count": 13,
   "metadata": {
    "colab": {},
    "colab_type": "code",
    "id": "xQuGqSZiQDKu"
   },
   "outputs": [],
   "source": [
    "def removeDuplicates(dfToCheck):\n",
    "    duplicates_removed = dfToCheck.reset_index().drop_duplicates(subset='timestamp', keep='last')\n",
    "    duplicated_removed = duplicates_removed.sort_values('timestamp')\n",
    "    return duplicates_removed"
   ]
  },
  {
   "cell_type": "code",
   "execution_count": 0,
   "metadata": {
    "colab": {},
    "colab_type": "code",
    "id": "wDrRVZy6QDKw",
    "outputId": "836dba0e-207b-46c8-957d-d33d04dc1507"
   },
   "outputs": [
    {
     "name": "stdout",
     "output_type": "stream",
     "text": [
      "475829    1535574734633\n",
      "Name: timestamp, dtype: int64 488148    1535575227405\n",
      "Name: timestamp, dtype: int64\n",
      "1535574849877 1535575227454\n"
     ]
    }
   ],
   "source": [
    "############################################\n",
    "######## SHOW Start/End timestamp ##########\n",
    "############################################\n",
    "\n",
    "actId = '5b8703421f6e4f79c187170e'\n",
    "\n",
    "is_in_acc = df_acc_new['activityId'] == actId\n",
    "filter_acc = df_acc_new[is_in_acc].sort_values('timestamp')"
   ]
  },
  {
   "cell_type": "code",
   "execution_count": 0,
   "metadata": {
    "colab": {},
    "colab_type": "code",
    "id": "329RdZtsQDK5"
   },
   "outputs": [],
   "source": [
    "####################################################\n",
    "####### SHOW DATA of specific activity ID  #########\n",
    "####################################################\n",
    "\n",
    "dataFrame = df_acc_cut\n",
    "activity = '5b738e905d0e657bff269e7c'\n",
    "\n",
    "df_act_in_sensor = dataFrame['activityId']==activity\n",
    "df_filtered = dataFrame[df_act_in_sensor]"
   ]
  },
  {
   "cell_type": "code",
   "execution_count": 14,
   "metadata": {
    "colab": {},
    "colab_type": "code",
    "id": "UNlxCoL1QDK7"
   },
   "outputs": [],
   "source": [
    "###############################\n",
    "##### CALCULATE magnitude #####\n",
    "###############################\n",
    "\n",
    "def calcMagnitude(df):\n",
    "    x2 = df['x']**2\n",
    "    y2 = df['y']**2\n",
    "    z2 = df['z']**2\n",
    "    m2 = x2 + y2 + z2\n",
    "    df['magnitude']=m2.apply(lambda x: np.sqrt(x))\n",
    "    return df"
   ]
  },
  {
   "cell_type": "code",
   "execution_count": 15,
   "metadata": {
    "colab": {},
    "colab_type": "code",
    "id": "8OZxJZblQDLA"
   },
   "outputs": [],
   "source": [
    "df_acc_denoise = calcMagnitude(df_acc_denoise)\n",
    "df_gyr_denoise = calcMagnitude(df_gyr_denoise)\n",
    "df_mag_denoise = calcMagnitude(df_mag_denoise)"
   ]
  },
  {
   "cell_type": "code",
   "execution_count": 0,
   "metadata": {
    "colab": {},
    "colab_type": "code",
    "id": "h_-xTOzlQDLG"
   },
   "outputs": [],
   "source": [
    "df_gyr_denoise.head(5)"
   ]
  },
  {
   "cell_type": "code",
   "execution_count": 19,
   "metadata": {},
   "outputs": [
    {
     "name": "stdout",
     "output_type": "stream",
     "text": [
      "                  activityId      timestamp     heading      speed  \\\n",
      "0   5b65588f1f6e4f7b6b2accf5  1533368466000  211.399994  37.119999   \n",
      "1   5b65588f1f6e4f7b6b2accf5  1533368467000  210.899994  37.220001   \n",
      "2   5b65588f1f6e4f7b6b2accf5  1533368468000  210.500000  37.529999   \n",
      "3   5b65588f1f6e4f7b6b2accf5  1533368469000  210.199997  37.740002   \n",
      "42  5b66e3811f6e4f7b6b31435d  1533469570082  273.899994  11.130000   \n",
      "43  5b66e3811f6e4f7b6b31435d  1533469572000  278.700012  11.310000   \n",
      "44  5b66e3811f6e4f7b6b31435d  1533469573000  267.100006  11.190000   \n",
      "45  5b66e3811f6e4f7b6b31435d  1533469574000  264.200012  11.030000   \n",
      "46  5b66e3811f6e4f7b6b31435d  1533469576000  252.000000  11.000000   \n",
      "47  5b66e3811f6e4f7b6b31435d  1533469577000  246.699997  11.200000   \n",
      "\n",
      "    definedActivity  \n",
      "0                 2  \n",
      "1                 2  \n",
      "2                 2  \n",
      "3                 2  \n",
      "42                2  \n",
      "43                2  \n",
      "44                2  \n",
      "45                2  \n",
      "46                2  \n",
      "47                2  \n"
     ]
    }
   ],
   "source": [
    "##########################################\n",
    "############## GPS Handling ##############\n",
    "##########################################\n",
    "\n",
    "df_gps_new = df_gps_new.drop(['lat', 'long', 'accuracy'], axis=1)\n",
    "\n",
    "print(df_gps_new.head(10))\n"
   ]
  },
  {
   "cell_type": "code",
   "execution_count": 40,
   "metadata": {
    "colab": {},
    "colab_type": "code",
    "id": "HGlB54lLQDLJ"
   },
   "outputs": [],
   "source": [
    "################################\n",
    "#### RESAMPLE & INTERPOLATE #### \n",
    "################################\n",
    "\n",
    "def resampleData(dataFrame, isGPS, sensorType):\n",
    "    if isGPS:\n",
    "        sampleRate='5000L'\n",
    "    else: sampleRate = '50L'\n",
    "    \n",
    "    debug = False\n",
    "    list_activities = dataFrame['activityId'].unique()\n",
    "    dataFrame_to_resample = pd.DataFrame()\n",
    "    \n",
    "    for activity in list_activities:\n",
    "        df_act_in_sensor = dataFrame['activityId']==activity\n",
    "        df_filtered = dataFrame[df_act_in_sensor]\n",
    "        \n",
    "        ## set start/end time from main activity (df_actBasic)\n",
    "        ## necessary for consistency and further calculation\n",
    "        df_filtered.head(1).timestamp = dict_act_start[activity]\n",
    "        df_filtered.tail(1).timestamp = dict_act_end[activity]\n",
    "        \n",
    "        df_filtered = removeDuplicates(df_filtered)\n",
    "        \n",
    "        ## convert timestamp to DateTime and set it as an index\n",
    "        df_filtered['timestamp'] = pd.to_datetime(df_filtered['timestamp'], unit='ms')\n",
    "        df_filtered = df_filtered.set_index(['timestamp'])\n",
    "        \n",
    "        ## resample the data to 50ms/10s\n",
    "        dataFrame_resampled = df_filtered\\\n",
    "            .select_dtypes(include=['float64', 'int64'])\\\n",
    "            .resample(sampleRate)\\\n",
    "            .bfill()\\\n",
    "            .interpolate(method='linear')\n",
    "        dataFrame_to_resample = dataFrame_to_resample.append(dataFrame_resampled)\n",
    "        \n",
    "        if (debug):\n",
    "            ##### KEEP FOR DEBUGGING PURPOSES #####\n",
    "            #print(df_acc_resampled.plot(title = activity, figsize=(12,12)))\n",
    "            #print(dataFrame_to_resample.head(1).index.values)\n",
    "            #print(dataFrame_to_resample.tail(1).index.values)\n",
    "            print(activity, \" --> \",len(df_filtered), \"|\", len(dataFrame_resampled))\n",
    "            #print(\"_________________________\")\n",
    "            ########################################\n",
    "      \n",
    "    print(len(dataFrame), \" | \", len(dataFrame_to_resample), \" (\",(len(dataFrame_to_resample)-len(dataFrame)),\")\")\n",
    "    dataFrame_to_resample.to_csv('datasets/'+sensorType+'_resampled.csv', sep='\\t', encoding='utf-8')\n",
    "    return dataFrame_to_resample"
   ]
  },
  {
   "cell_type": "code",
   "execution_count": 41,
   "metadata": {
    "colab": {},
    "colab_type": "code",
    "id": "64W4XBdtQDLS",
    "outputId": "089482b9-5351-4b4e-ff37-5305c04df0ab"
   },
   "outputs": [
    {
     "name": "stderr",
     "output_type": "stream",
     "text": [
      "/Users/alhirz/anaconda3/envs/analysis/lib/python3.6/site-packages/pandas/core/generic.py:4405: SettingWithCopyWarning: \n",
      "A value is trying to be set on a copy of a slice from a DataFrame.\n",
      "Try using .loc[row_indexer,col_indexer] = value instead\n",
      "\n",
      "See the caveats in the documentation: http://pandas.pydata.org/pandas-docs/stable/indexing.html#indexing-view-versus-copy\n",
      "  self[name] = value\n"
     ]
    },
    {
     "name": "stdout",
     "output_type": "stream",
     "text": [
      "1518  |  5863  ( 4345 )\n"
     ]
    }
   ],
   "source": [
    "#df_acc_resampled = resampleData(df_acc_denoise, False, 'Accelerometer')\n",
    "#df_gyr_resampled = resampleData(df_gyr_denoise, False, 'Gyroscope')\n",
    "#df_mag_resampled = resampleData(df_mag_denoise, False, 'Magnetometer')\n",
    "\n",
    "df_gps_resampled = resampleData(df_gps_new, True, 'GPS')"
   ]
  },
  {
   "cell_type": "code",
   "execution_count": 34,
   "metadata": {
    "colab": {},
    "colab_type": "code",
    "id": "vEH1_m_5QDLe"
   },
   "outputs": [],
   "source": [
    "#df_acc_resampled = df_acc_resampled.drop('index', axis=1)\n",
    "#df_gyr_resampled = df_gyr_resampled.drop('index', axis=1)\n",
    "#df_mag_resampled = df_mag_resampled.drop('index', axis=1)\n",
    "df_gps_resampled = df_gps_resampled.drop('index', axis=1)"
   ]
  },
  {
   "cell_type": "code",
   "execution_count": 24,
   "metadata": {
    "colab": {},
    "colab_type": "code",
    "id": "OBzpYon-QDLk"
   },
   "outputs": [],
   "source": [
    "df_acc_resampled.definedActivity = df_acc_resampled.definedActivity.astype(int)\n",
    "df_gyr_resampled.definedActivity = df_gyr_resampled.definedActivity.astype(int)\n",
    "df_mag_resampled.definedActivity = df_mag_resampled.definedActivity.astype(int)"
   ]
  },
  {
   "cell_type": "code",
   "execution_count": 0,
   "metadata": {
    "colab": {},
    "colab_type": "code",
    "id": "t5nkiUtTQDLs"
   },
   "outputs": [],
   "source": [
    "#############################\n",
    "#### FEATURE ENGINEERING ####\n",
    "#############################\n",
    "\n",
    "\n",
    "def slidingWindow(data, window_size, step_size):\n",
    "    segments = []\n",
    "    labels = []\n",
    "    for i in range(0, len(data) - window_size, step_size):\n",
    "        x_s = data['x'].values[i: i + window_size]\n",
    "        y_s = data['y'].values[i: i + window_size]\n",
    "        z_s = data['z'].values[i: i + window_size]\n",
    "        m_s = data['magnitude'].values[i: i + window_size]\n",
    "        label = stats.mode(data['definedActivity'][i: i + window_size])[0][0]\n",
    "        segments.append([x_s, y_s, z_s, m_s, label])\n",
    "    return segments"
   ]
  },
  {
   "cell_type": "code",
   "execution_count": 0,
   "metadata": {
    "colab": {},
    "colab_type": "code",
    "id": "BNu_gs9QQDLv"
   },
   "outputs": [],
   "source": [
    "################################\n",
    "####### REORDER COLUMNS# #######\n",
    "################################\n",
    "\n",
    "df_acc_resampled = df_acc_resampled[['x','y','z','magnitude','definedActivity']]\n",
    "df_gyr_resampled = df_gyr_resampled[['x','y','z','magnitude','definedActivity']]\n",
    "df_mag_resampled = df_mag_resampled[['x','y','z','magnitude','definedActivity']]\n"
   ]
  },
  {
   "cell_type": "code",
   "execution_count": 0,
   "metadata": {
    "colab": {},
    "colab_type": "code",
    "id": "e6qKHpAKQDLz",
    "outputId": "87238925-ad8e-43e1-c3d0-847904149b98"
   },
   "outputs": [
    {
     "name": "stdout",
     "output_type": "stream",
     "text": [
      "Index(['acc_x', 'acc_y', 'acc_z', 'acc_m', 'gyr_x', 'gyr_y', 'gyr_z', 'gyr_m',\n",
      "       'mag_x', 'mag_y', 'mag_z', 'mag_m', 'activity'],\n",
      "      dtype='object')\n"
     ]
    }
   ],
   "source": [
    "##########################################\n",
    "##### PREPARE DATA FOR DEEP LEARNING #####\n",
    "##########################################\n",
    "\n",
    "df_deep = pd.concat([df_acc_resampled, df_gyr_resampled, df_mag_resampled], axis=1)\n",
    "\n",
    "df_deep.columns = ['acc_x', 'acc_y', 'acc_z', 'acc_m', 'acc_Act', \n",
    "                  'gyr_x', 'gyr_y', 'gyr_z', 'gyr_m', 'gyr_Act', \n",
    "                  'mag_x', 'mag_y', 'mag_z', 'mag_m', 'activity']\n",
    "df_deep = df_deep.drop(['acc_Act', 'gyr_Act'], axis=1)\n",
    "\n",
    "print(df_deep.columns)\n",
    "\n",
    "df_deep.to_csv('datasets/deep/dataset_resampled.csv', sep='\\t', decimal=',', encoding='utf-8')"
   ]
  },
  {
   "cell_type": "code",
   "execution_count": 0,
   "metadata": {
    "colab": {},
    "colab_type": "code",
    "id": "-ovgGlqHQDL5",
    "outputId": "e8b4f05e-9d15-4fd9-d7df-5d2da8a79c11"
   },
   "outputs": [
    {
     "name": "stdout",
     "output_type": "stream",
     "text": [
      "589724\n",
      "589724\n",
      "589724\n",
      "------\n",
      "29485\n",
      "29485\n",
      "29485\n"
     ]
    }
   ],
   "source": [
    "##########################################\n",
    "####### generating SLIDING WINDOWs #######\n",
    "##########################################\n",
    "\n",
    "\n",
    "df_acc_metrics = df_acc_resampled\n",
    "df_gyr_metrics = df_gyr_resampled\n",
    "df_mag_metrics = df_mag_resampled\n",
    "\n",
    "\n",
    "print(len(df_acc_metrics))\n",
    "print(len(df_gyr_metrics))\n",
    "print(len(df_mag_metrics))\n",
    "\n",
    "win_acc = slidingWindow(df_acc_resampled, 40, 20)\n",
    "win_gyr = slidingWindow(df_gyr_resampled, 40, 20)\n",
    "win_mag = slidingWindow(df_mag_resampled, 40, 20)\n",
    "\n",
    "df_window_acc = pd.DataFrame(win_acc, columns=['x','y','z','magnitude', 'activityType'])\n",
    "df_window_gyr = pd.DataFrame(win_gyr, columns=['x','y','z','magnitude', 'activityType'])\n",
    "df_window_mag = pd.DataFrame(win_mag, columns=['x','y','z','magnitude', 'activityType'])\n",
    "\n",
    "print(\"------\")\n",
    "print(len(df_window_acc))\n",
    "print(len(df_window_gyr))\n",
    "print(len(df_window_mag))\n",
    "\n",
    "df_window_acc_y = df_window_acc['activityType']\n",
    "df_window_gyr_y = df_window_gyr['activityType']\n",
    "df_window_mag_y = df_window_mag['activityType']"
   ]
  },
  {
   "cell_type": "code",
   "execution_count": 0,
   "metadata": {
    "colab": {},
    "colab_type": "code",
    "id": "jKRo_7QoQDL9"
   },
   "outputs": [],
   "source": [
    "list_sensors = ['acc', 'gyr', 'mag']\n",
    "list_xyz = ['x', 'y', 'z', 'magnitude']\n",
    "list_agg = ['min', 'max', 'mean','std','var']\n",
    "\n",
    "acc_feature = []\n",
    "gyr_feature = []\n",
    "mag_feature = []\n",
    "\n",
    "list_fts_sensor = []\n",
    "list_fts_all = []\n",
    "\n",
    "\n",
    "for b in list_xyz:\n",
    "    for c in list_agg:\n",
    "        list_fts_sensor.append(b +\"_\" + c)\n",
    "\n",
    "for a in list_sensors:\n",
    "    for b in list_xyz:\n",
    "        for c in list_agg:\n",
    "            list_fts_all.append(a + \"_\"+ b +\"_\" + c)"
   ]
  },
  {
   "cell_type": "code",
   "execution_count": 0,
   "metadata": {
    "colab": {},
    "colab_type": "code",
    "id": "H7sWALthQDL-"
   },
   "outputs": [],
   "source": [
    "def generateFeatures(dataFrame, sensor_feature):\n",
    "    for row in dataFrame.itertuples():\n",
    "        sensor_feature.append([\n",
    "            row.x.min(),row.x.max(),row.x.mean(), row.x.std(), row.x.var(),\n",
    "            row.y.min(),row.y.max(),row.y.mean(), row.y.std(), row.y.var(),\n",
    "            row.z.min(),row.z.max(),row.z.mean(), row.z.std(), row.z.var(),\n",
    "            row.magnitude.min(),row.magnitude.max(),row.magnitude.mean(), row.magnitude.std(),row.magnitude.var()\n",
    "            ])    \n",
    "    return dataFrame"
   ]
  },
  {
   "cell_type": "code",
   "execution_count": 0,
   "metadata": {
    "colab": {},
    "colab_type": "code",
    "id": "CgeJBRRDQDMC"
   },
   "outputs": [],
   "source": [
    "#########################################\n",
    "########## FEATURE ENGINEERING ##########\n",
    "#########################################\n",
    "\n",
    "generateFeatures(df_window_acc, acc_feature)\n",
    "generateFeatures(df_window_gyr, gyr_feature)\n",
    "generateFeatures(df_window_mag, mag_feature)\n",
    "\n",
    "df_window_acc_ft = pd.DataFrame.from_records(acc_feature, columns=list_fts_sensor)\n",
    "df_window_gyr_ft = pd.DataFrame.from_records(gyr_feature, columns=list_fts_sensor)\n",
    "df_window_mag_ft = pd.DataFrame.from_records(mag_feature, columns=list_fts_sensor)\n",
    "\n",
    "df_window_all = pd.concat([df_window_acc_ft, df_window_gyr_ft, df_window_mag_ft], axis=1)\n",
    "df_window_all.columns = list_fts_all\n"
   ]
  },
  {
   "cell_type": "code",
   "execution_count": 0,
   "metadata": {
    "colab": {},
    "colab_type": "code",
    "id": "MW-0EXi_QDMF",
    "outputId": "5269cd89-bdd9-4a78-acb1-c80617e72114"
   },
   "outputs": [
    {
     "name": "stdout",
     "output_type": "stream",
     "text": [
      "0        2\n",
      "1        2\n",
      "2        2\n",
      "3        2\n",
      "4        2\n",
      "5        2\n",
      "6        2\n",
      "7        2\n",
      "8        2\n",
      "9        2\n",
      "10       2\n",
      "11       2\n",
      "12       2\n",
      "13       2\n",
      "14       2\n",
      "15       2\n",
      "16       2\n",
      "17       2\n",
      "18       2\n",
      "19       2\n",
      "20       2\n",
      "21       2\n",
      "22       2\n",
      "23       2\n",
      "24       2\n",
      "25       2\n",
      "26       2\n",
      "27       2\n",
      "28       2\n",
      "29       2\n",
      "        ..\n",
      "29455    7\n",
      "29456    7\n",
      "29457    7\n",
      "29458    7\n",
      "29459    7\n",
      "29460    7\n",
      "29461    7\n",
      "29462    7\n",
      "29463    7\n",
      "29464    7\n",
      "29465    7\n",
      "29466    7\n",
      "29467    7\n",
      "29468    7\n",
      "29469    7\n",
      "29470    7\n",
      "29471    7\n",
      "29472    7\n",
      "29473    7\n",
      "29474    7\n",
      "29475    7\n",
      "29476    7\n",
      "29477    7\n",
      "29478    7\n",
      "29479    7\n",
      "29480    7\n",
      "29481    7\n",
      "29482    7\n",
      "29483    7\n",
      "29484    7\n",
      "Name: activityType, Length: 29485, dtype: int64\n",
      "60 7\n"
     ]
    }
   ],
   "source": [
    "########################################\n",
    "########### NORMALIZING data ###########\n",
    "########################################\n",
    "\n",
    "min_max_scaler = preprocessing.MinMaxScaler()\n",
    "np_scaled = min_max_scaler.fit_transform(df_window_all)\n",
    "df_X_normalized = pd.DataFrame(np_scaled)\n",
    "df_X_normalized = pd.get_dummies(df_X_normalized)\n",
    "\n",
    "parameters1 = len(df_X_normalized.columns)\n",
    "\n",
    "print(df_window_acc_y)\n",
    "print(parameters1, parameters2)"
   ]
  },
  {
   "cell_type": "code",
   "execution_count": 0,
   "metadata": {
    "colab": {},
    "colab_type": "code",
    "id": "jNQeITRbQDMM",
    "outputId": "c568de6f-52c5-48e3-cbdd-525e93a195a9"
   },
   "outputs": [
    {
     "name": "stdout",
     "output_type": "stream",
     "text": [
      "Index(['acc_x_min', 'acc_x_max', 'acc_x_mean', 'acc_x_std', 'acc_x_var',\n",
      "       'acc_y_min', 'acc_y_max', 'acc_y_mean', 'acc_y_std', 'acc_y_var',\n",
      "       'acc_z_min', 'acc_z_max', 'acc_z_mean', 'acc_z_std', 'acc_z_var',\n",
      "       'acc_magnitude_min', 'acc_magnitude_max', 'acc_magnitude_mean',\n",
      "       'acc_magnitude_std', 'acc_magnitude_var', 'gyr_x_min', 'gyr_x_max',\n",
      "       'gyr_x_mean', 'gyr_x_std', 'gyr_x_var', 'gyr_y_min', 'gyr_y_max',\n",
      "       'gyr_y_mean', 'gyr_y_std', 'gyr_y_var', 'gyr_z_min', 'gyr_z_max',\n",
      "       'gyr_z_mean', 'gyr_z_std', 'gyr_z_var', 'gyr_magnitude_min',\n",
      "       'gyr_magnitude_max', 'gyr_magnitude_mean', 'gyr_magnitude_std',\n",
      "       'gyr_magnitude_var', 'mag_x_min', 'mag_x_max', 'mag_x_mean',\n",
      "       'mag_x_std', 'mag_x_var', 'mag_y_min', 'mag_y_max', 'mag_y_mean',\n",
      "       'mag_y_std', 'mag_y_var', 'mag_z_min', 'mag_z_max', 'mag_z_mean',\n",
      "       'mag_z_std', 'mag_z_var', 'mag_magnitude_min', 'mag_magnitude_max',\n",
      "       'mag_magnitude_mean', 'mag_magnitude_std', 'mag_magnitude_var'],\n",
      "      dtype='object')\n",
      "Index(['activityType'], dtype='object')\n"
     ]
    }
   ],
   "source": [
    "#######################################\n",
    "######### SETTING THE COLUMNS #########\n",
    "#######################################\n",
    "\n",
    "df_X_normalized.columns = list_fts_all\n",
    "df_y = pd.DataFrame(df_window_acc_y)\n",
    "df_X = df_X_normalized\n",
    "print(df_X.columns)\n",
    "print(df_y.columns)\n"
   ]
  },
  {
   "cell_type": "code",
   "execution_count": 0,
   "metadata": {
    "colab": {},
    "colab_type": "code",
    "id": "3H0izdQZQDMR",
    "outputId": "48d21201-c84e-4cd3-fb31-c52231b95cbe"
   },
   "outputs": [
    {
     "name": "stdout",
     "output_type": "stream",
     "text": [
      "29485\n",
      "29485\n"
     ]
    }
   ],
   "source": [
    "#######################################\n",
    "######### EXPORTING main data #########\n",
    "#######################################\n",
    "\n",
    "\n",
    "print(len(df_X))\n",
    "print(len(df_y))\n",
    "\n",
    "df_X.to_csv('datasets/X.csv', sep='\\t', decimal=',', encoding='utf-8')\n",
    "df_y.to_csv('datasets/y.csv', sep='\\t', encoding='utf-8')"
   ]
  },
  {
   "cell_type": "code",
   "execution_count": 0,
   "metadata": {
    "colab": {},
    "colab_type": "code",
    "id": "oFrtNlnCQDMU",
    "outputId": "12f13e0b-906b-45a8-c461-50732a96b731"
   },
   "outputs": [
    {
     "name": "stdout",
     "output_type": "stream",
     "text": [
      "29485\n"
     ]
    }
   ],
   "source": [
    "#print(df_X_normalized.head(1))\n",
    "print(len(df_X))"
   ]
  },
  {
   "cell_type": "code",
   "execution_count": 0,
   "metadata": {
    "colab": {},
    "colab_type": "code",
    "id": "8HFGBQEpQDMX",
    "outputId": "c77cb183-47b9-44a0-bef0-e7e872874599"
   },
   "outputs": [
    {
     "name": "stdout",
     "output_type": "stream",
     "text": [
      "23588\n",
      "5897\n"
     ]
    }
   ],
   "source": [
    "######################################\n",
    "######### SPLITTING the data #########\n",
    "######################################\n",
    "\n",
    "X_train, X_test, y_train, y_test = train_test_split(df_X, df_y, test_size=0.2, random_state=42)\n",
    "\n",
    "X_train.to_csv('datasets/X_train.csv', sep='\\t', decimal=',', encoding='utf-8')\n",
    "X_test.to_csv('datasets/X_test.csv', sep='\\t', decimal=',', encoding='utf-8')\n",
    "y_train.to_csv('datasets/y_train.csv', sep='\\t', encoding='utf-8')\n",
    "y_test.to_csv('datasets/y_test.csv', sep='\\t', encoding='utf-8')\n",
    "\n",
    "print(len(X_train))\n",
    "print(len(X_test))"
   ]
  },
  {
   "cell_type": "code",
   "execution_count": 0,
   "metadata": {
    "colab": {},
    "colab_type": "code",
    "id": "tdznAEhrQDMa",
    "outputId": "19aa4be9-b924-4236-d768-68b15de7f502"
   },
   "outputs": [
    {
     "name": "stdout",
     "output_type": "stream",
     "text": [
      "                    acc_x_min  acc_x_max  acc_x_mean  acc_x_std  acc_x_var  \\\n",
      "acc_x_min            1.000000  -0.300312    0.308473  -0.687721  -0.623398   \n",
      "acc_x_max           -0.300312   1.000000    0.760530   0.861929   0.749529   \n",
      "acc_x_mean           0.308473   0.760530    1.000000   0.427294   0.378086   \n",
      "acc_x_std           -0.687721   0.861929    0.427294   1.000000   0.935804   \n",
      "acc_x_var           -0.623398   0.749529    0.378086   0.935804   1.000000   \n",
      "acc_y_min            0.337607  -0.646795   -0.383480  -0.542794  -0.313959   \n",
      "acc_y_max           -0.435500   0.440824    0.209966   0.624594   0.685411   \n",
      "acc_y_mean           0.006614  -0.227455   -0.154346  -0.048353   0.157534   \n",
      "acc_y_std           -0.617595   0.879664    0.490477   0.954231   0.835386   \n",
      "acc_y_var           -0.593486   0.835000    0.479691   0.945249   0.899491   \n",
      "acc_z_min            0.566781  -0.803598   -0.427208  -0.818172  -0.649632   \n",
      "acc_z_max           -0.217489   0.639182    0.465929   0.493036   0.300515   \n",
      "acc_z_mean           0.548505  -0.695821   -0.330950  -0.746488  -0.610674   \n",
      "acc_z_std           -0.477580   0.844039    0.512929   0.790598   0.588695   \n",
      "acc_z_var           -0.398446   0.772271    0.478992   0.686818   0.494267   \n",
      "acc_magnitude_min    0.590269  -0.755715   -0.345740  -0.798980  -0.596820   \n",
      "acc_magnitude_max   -0.534926   0.877656    0.495952   0.848806   0.670283   \n",
      "acc_magnitude_mean  -0.396281   0.697686    0.445255   0.706407   0.638108   \n",
      "acc_magnitude_std   -0.606948   0.882137    0.472513   0.913694   0.741752   \n",
      "acc_magnitude_var   -0.565325   0.882819    0.494230   0.899155   0.758690   \n",
      "gyr_x_min            0.316085  -0.715354   -0.438155  -0.590773  -0.358867   \n",
      "gyr_x_max           -0.448230   0.756477    0.422983   0.697591   0.481113   \n",
      "gyr_x_mean          -0.108314   0.086827    0.032715   0.147489   0.183688   \n",
      "gyr_x_std           -0.387315   0.731113    0.415803   0.636549   0.398967   \n",
      "gyr_x_var           -0.258981   0.672026    0.420197   0.519201   0.287277   \n",
      "gyr_y_min            0.592770  -0.785517   -0.425870  -0.916573  -0.896304   \n",
      "gyr_y_max           -0.594010   0.822519    0.426840   0.876440   0.747868   \n",
      "gyr_y_mean          -0.013388   0.019689    0.005730   0.018428   0.012407   \n",
      "gyr_y_std           -0.620951   0.829257    0.443433   0.943099   0.877873   \n",
      "gyr_y_var           -0.549427   0.720867    0.402566   0.875158   0.918661   \n",
      "gyr_z_min            0.627285  -0.721369   -0.354252  -0.896745  -0.883552   \n",
      "gyr_z_max           -0.665199   0.730142    0.324720   0.902734   0.858836   \n",
      "gyr_z_mean          -0.059204   0.119806    0.079834   0.098846   0.064045   \n",
      "gyr_z_std           -0.679062   0.725376    0.313381   0.913606   0.875104   \n",
      "gyr_z_var           -0.569577   0.562642    0.244887   0.786318   0.868329   \n",
      "gyr_magnitude_min   -0.316937   0.558556    0.353668   0.566051   0.497294   \n",
      "gyr_magnitude_max   -0.599438   0.848519    0.468567   0.939305   0.865410   \n",
      "gyr_magnitude_mean  -0.578824   0.843484    0.459426   0.899689   0.775505   \n",
      "gyr_magnitude_std   -0.613710   0.831085    0.440955   0.936130   0.856745   \n",
      "gyr_magnitude_var   -0.542807   0.733347    0.408831   0.874667   0.905005   \n",
      "mag_x_min            0.250749  -0.186969   -0.011978  -0.249967  -0.225659   \n",
      "mag_x_max            0.198725  -0.146603   -0.002007  -0.192440  -0.171645   \n",
      "mag_x_mean           0.225811  -0.168978   -0.008547  -0.223122  -0.200530   \n",
      "mag_x_std           -0.264385   0.205414    0.049421   0.296663   0.283061   \n",
      "mag_x_var           -0.036573   0.005902   -0.012083   0.033249   0.039217   \n",
      "mag_y_min            0.274030  -0.016701    0.160220  -0.164475  -0.194458   \n",
      "mag_y_max            0.247403   0.007592    0.165293  -0.135419  -0.175915   \n",
      "mag_y_mean           0.260871  -0.003989    0.162971  -0.149985  -0.186173   \n",
      "mag_y_std           -0.199964   0.193564    0.045580   0.230483   0.150024   \n",
      "mag_y_var           -0.003648   0.007265    0.005398   0.015544   0.008506   \n",
      "mag_z_min            0.260928  -0.156333    0.025132  -0.233268  -0.197624   \n",
      "mag_z_max            0.172626  -0.031365    0.083852  -0.116035  -0.126480   \n",
      "mag_z_mean           0.220335  -0.102820    0.049373  -0.180430  -0.163196   \n",
      "mag_z_std           -0.278981   0.387228    0.176392   0.367738   0.224847   \n",
      "mag_z_var           -0.065295   0.079085    0.026472   0.076716   0.038394   \n",
      "mag_magnitude_min    0.289833  -0.073629    0.133018  -0.181099  -0.154278   \n",
      "mag_magnitude_max    0.288555  -0.084633    0.121893  -0.188716  -0.161526   \n",
      "mag_magnitude_mean   0.289644  -0.079137    0.127778  -0.185009  -0.157860   \n",
      "mag_magnitude_std    0.005234  -0.068688   -0.060060  -0.050557  -0.048251   \n",
      "mag_magnitude_var    0.009554  -0.019174   -0.010913  -0.009740  -0.008598   \n",
      "\n",
      "                    acc_y_min  acc_y_max  acc_y_mean  acc_y_std  acc_y_var  \\\n",
      "acc_x_min            0.337607  -0.435500    0.006614  -0.617595  -0.593486   \n",
      "acc_x_max           -0.646795   0.440824   -0.227455   0.879664   0.835000   \n",
      "acc_x_mean          -0.383480   0.209966   -0.154346   0.490477   0.479691   \n",
      "acc_x_std           -0.542794   0.624594   -0.048353   0.954231   0.945249   \n",
      "acc_x_var           -0.313959   0.685411    0.157534   0.835386   0.899491   \n",
      "acc_y_min            1.000000   0.221752    0.844243  -0.651894  -0.499296   \n",
      "acc_y_max            0.221752   1.000000    0.695394   0.571216   0.658305   \n",
      "acc_y_mean           0.844243   0.695394    1.000000  -0.161169   0.000634   \n",
      "acc_y_std           -0.651894   0.571216   -0.161169   1.000000   0.966470   \n",
      "acc_y_var           -0.499296   0.658305    0.000634   0.966470   1.000000   \n",
      "acc_z_min            0.753708  -0.342798    0.364922  -0.876819  -0.791511   \n",
      "acc_z_max           -0.638748   0.146662   -0.391975   0.602606   0.484730   \n",
      "acc_z_mean           0.675093  -0.285626    0.331618  -0.784733  -0.724889   \n",
      "acc_z_std           -0.803151   0.305024   -0.423792   0.881725   0.772473   \n",
      "acc_z_var           -0.787190   0.199430   -0.474000   0.792216   0.690257   \n",
      "acc_magnitude_min    0.685920  -0.396629    0.288029  -0.848901  -0.733192   \n",
      "acc_magnitude_max   -0.782186   0.358682   -0.373991   0.909519   0.817885   \n",
      "acc_magnitude_mean  -0.575731   0.291808   -0.260314   0.729732   0.712719   \n",
      "acc_magnitude_std   -0.742875   0.456942   -0.292803   0.967434   0.889511   \n",
      "acc_magnitude_var   -0.708603   0.456408   -0.268043   0.954539   0.907700   \n",
      "gyr_x_min            0.805018  -0.088599    0.547113  -0.704981  -0.558309   \n",
      "gyr_x_max           -0.834151   0.171027   -0.521329   0.797627   0.660499   \n",
      "gyr_x_mean           0.046690   0.191517    0.138652   0.119504   0.151162   \n",
      "gyr_x_std           -0.847129   0.100397   -0.573034   0.750669   0.596242   \n",
      "gyr_x_var           -0.819049  -0.006251   -0.613599   0.647801   0.498432   \n",
      "gyr_y_min            0.406978  -0.669513   -0.076187  -0.884303  -0.909956   \n",
      "gyr_y_max           -0.675807   0.437954   -0.252607   0.903243   0.845587   \n",
      "gyr_y_mean          -0.037118  -0.016123   -0.033302   0.015733   0.007827   \n",
      "gyr_y_std           -0.528040   0.612355   -0.045373   0.935256   0.930355   \n",
      "gyr_y_var           -0.294495   0.680464    0.167538   0.815806   0.880847   \n",
      "gyr_z_min            0.369781  -0.663550   -0.099179  -0.851866  -0.881942   \n",
      "gyr_z_max           -0.424248   0.635148    0.040581   0.859452   0.861263   \n",
      "gyr_z_mean          -0.125998   0.027348   -0.073998   0.117368   0.096847   \n",
      "gyr_z_std           -0.418978   0.640472    0.047347   0.865875   0.871020   \n",
      "gyr_z_var           -0.161636   0.658462    0.250755   0.685488   0.757519   \n",
      "gyr_magnitude_min   -0.485569   0.218435   -0.232629   0.587350   0.561697   \n",
      "gyr_magnitude_max   -0.568990   0.574312   -0.095143   0.937815   0.922840   \n",
      "gyr_magnitude_mean  -0.675899   0.458579   -0.241925   0.927290   0.872132   \n",
      "gyr_magnitude_std   -0.557472   0.582465   -0.083334   0.933499   0.910857   \n",
      "gyr_magnitude_var   -0.334655   0.646825    0.119354   0.820480   0.867770   \n",
      "mag_x_min            0.247228  -0.063483    0.142149  -0.272849  -0.270518   \n",
      "mag_x_max            0.228436  -0.012862    0.156110  -0.217399  -0.214882   \n",
      "mag_x_mean           0.239066  -0.039520    0.149273  -0.247162  -0.244827   \n",
      "mag_x_std           -0.101748   0.250176    0.062721   0.286770   0.289799   \n",
      "mag_x_var            0.015670   0.043998    0.036180   0.028309   0.030669   \n",
      "mag_y_min           -0.016924  -0.190250   -0.117355  -0.150143  -0.183341   \n",
      "mag_y_max           -0.045581  -0.179362   -0.133135  -0.118974  -0.160336   \n",
      "mag_y_mean          -0.033741  -0.186669   -0.128388  -0.134061  -0.172150   \n",
      "mag_y_std           -0.228659   0.081821   -0.128473   0.250046   0.186388   \n",
      "mag_y_var           -0.011262   0.006803   -0.005026   0.021875   0.011372   \n",
      "mag_z_min            0.244301  -0.042796    0.152518  -0.249836  -0.229284   \n",
      "mag_z_max            0.093178  -0.018192    0.053677  -0.112279  -0.120143   \n",
      "mag_z_mean           0.183839  -0.026394    0.116304  -0.190031  -0.180828   \n",
      "mag_z_std           -0.481260   0.067005   -0.320615   0.433829   0.344511   \n",
      "mag_z_var           -0.120521  -0.000505   -0.090643   0.098181   0.072720   \n",
      "mag_magnitude_min    0.184111  -0.040790    0.111717  -0.196331  -0.187659   \n",
      "mag_magnitude_max    0.192760  -0.041135    0.117830  -0.203790  -0.194900   \n",
      "mag_magnitude_mean   0.188623  -0.040975    0.114888  -0.200177  -0.191337   \n",
      "mag_magnitude_std    0.057208  -0.002954    0.040275  -0.047442  -0.047462   \n",
      "mag_magnitude_var    0.016011  -0.003129    0.010208  -0.008633  -0.012561   \n",
      "\n",
      "                          ...          mag_z_min  mag_z_max  mag_z_mean  \\\n",
      "acc_x_min                 ...           0.260928   0.172626    0.220335   \n",
      "acc_x_max                 ...          -0.156333  -0.031365   -0.102820   \n",
      "acc_x_mean                ...           0.025132   0.083852    0.049373   \n",
      "acc_x_std                 ...          -0.233268  -0.116035   -0.180430   \n",
      "acc_x_var                 ...          -0.197624  -0.126480   -0.163196   \n",
      "acc_y_min                 ...           0.244301   0.093178    0.183839   \n",
      "acc_y_max                 ...          -0.042796  -0.018192   -0.026394   \n",
      "acc_y_mean                ...           0.152518   0.053677    0.116304   \n",
      "acc_y_std                 ...          -0.249836  -0.112279   -0.190031   \n",
      "acc_y_var                 ...          -0.229284  -0.120143   -0.180828   \n",
      "acc_z_min                 ...           0.218056   0.062331    0.151427   \n",
      "acc_z_max                 ...          -0.149254  -0.013397   -0.094895   \n",
      "acc_z_mean                ...           0.205496   0.070216    0.147771   \n",
      "acc_z_std                 ...          -0.219496  -0.049030   -0.148381   \n",
      "acc_z_var                 ...          -0.209487  -0.041214   -0.140538   \n",
      "acc_magnitude_min         ...           0.227381   0.083563    0.166126   \n",
      "acc_magnitude_max         ...          -0.240157  -0.082855   -0.174163   \n",
      "acc_magnitude_mean        ...          -0.201785  -0.088534   -0.153026   \n",
      "acc_magnitude_std         ...          -0.253429  -0.100141   -0.188303   \n",
      "acc_magnitude_var         ...          -0.248241  -0.102434   -0.186819   \n",
      "gyr_x_min                 ...           0.235464   0.067960    0.167446   \n",
      "gyr_x_max                 ...          -0.264027  -0.091535   -0.192907   \n",
      "gyr_x_mean                ...          -0.029092  -0.023921   -0.025695   \n",
      "gyr_x_std                 ...          -0.259729  -0.084823   -0.188292   \n",
      "gyr_x_var                 ...          -0.222431  -0.052447   -0.154095   \n",
      "gyr_y_min                 ...           0.229489   0.130628    0.183838   \n",
      "gyr_y_max                 ...          -0.257241  -0.106926   -0.192333   \n",
      "gyr_y_mean                ...          -0.000494   0.003468    0.000886   \n",
      "gyr_y_std                 ...          -0.254194  -0.131219   -0.199196   \n",
      "gyr_y_var                 ...          -0.196119  -0.117766   -0.158428   \n",
      "gyr_z_min                 ...           0.226825   0.145661    0.188539   \n",
      "gyr_z_max                 ...          -0.238327  -0.141427   -0.192602   \n",
      "gyr_z_mean                ...          -0.035331  -0.002988   -0.022740   \n",
      "gyr_z_std                 ...          -0.242320  -0.148782   -0.198268   \n",
      "gyr_z_var                 ...          -0.173166  -0.129787   -0.148753   \n",
      "gyr_magnitude_min         ...          -0.182929  -0.102577   -0.149175   \n",
      "gyr_magnitude_max         ...          -0.262412  -0.138186   -0.207541   \n",
      "gyr_magnitude_mean        ...          -0.280990  -0.141372   -0.220962   \n",
      "gyr_magnitude_std         ...          -0.267998  -0.141359   -0.211726   \n",
      "gyr_magnitude_var         ...          -0.211558  -0.127182   -0.171675   \n",
      "mag_x_min                 ...           0.823317   0.772632    0.810640   \n",
      "mag_x_max                 ...           0.807441   0.802462    0.817115   \n",
      "mag_x_mean                ...           0.818610   0.790359    0.817193   \n",
      "mag_x_std                 ...          -0.158343   0.060482   -0.052294   \n",
      "mag_x_var                 ...          -0.066744   0.062665   -0.003923   \n",
      "mag_y_min                 ...           0.802638   0.797096    0.808718   \n",
      "mag_y_max                 ...           0.783675   0.805324    0.802830   \n",
      "mag_y_mean                ...           0.793661   0.802317    0.807063   \n",
      "mag_y_std                 ...          -0.158980   0.036268   -0.065443   \n",
      "mag_y_var                 ...          -0.023585   0.050362    0.013380   \n",
      "mag_z_min                 ...           1.000000   0.941825    0.985407   \n",
      "mag_z_max                 ...           0.941825   1.000000    0.982405   \n",
      "mag_z_mean                ...           0.985407   0.982405    1.000000   \n",
      "mag_z_std                 ...          -0.266185   0.066566   -0.110714   \n",
      "mag_z_var                 ...          -0.158894   0.065569   -0.049693   \n",
      "mag_magnitude_min         ...           0.819635   0.793870    0.818920   \n",
      "mag_magnitude_max         ...           0.801382   0.803789    0.814565   \n",
      "mag_magnitude_mean        ...           0.812247   0.800060    0.818577   \n",
      "mag_magnitude_std         ...          -0.094137   0.105544    0.004714   \n",
      "mag_magnitude_var         ...          -0.044911   0.055314    0.004956   \n",
      "\n",
      "                    mag_z_std  mag_z_var  mag_magnitude_min  \\\n",
      "acc_x_min           -0.278981  -0.065295           0.289833   \n",
      "acc_x_max            0.387228   0.079085          -0.073629   \n",
      "acc_x_mean           0.176392   0.026472           0.133018   \n",
      "acc_x_std            0.367738   0.076716          -0.181099   \n",
      "acc_x_var            0.224847   0.038394          -0.154278   \n",
      "acc_y_min           -0.481260  -0.120521           0.184111   \n",
      "acc_y_max            0.067005  -0.000505          -0.040790   \n",
      "acc_y_mean          -0.320615  -0.090643           0.111717   \n",
      "acc_y_std            0.433829   0.098181          -0.196331   \n",
      "acc_y_var            0.344511   0.072720          -0.187659   \n",
      "acc_z_min           -0.484282  -0.113439           0.207143   \n",
      "acc_z_max            0.421491   0.109950          -0.072747   \n",
      "acc_z_mean          -0.423283  -0.098070           0.229820   \n",
      "acc_z_std            0.530979   0.135313          -0.175305   \n",
      "acc_z_var            0.525391   0.140629          -0.181217   \n",
      "acc_magnitude_min   -0.447286  -0.095757           0.174953   \n",
      "acc_magnitude_max    0.491288   0.112292          -0.198186   \n",
      "acc_magnitude_mean   0.357346   0.085115          -0.163429   \n",
      "acc_magnitude_std    0.479755   0.107159          -0.205049   \n",
      "acc_magnitude_var    0.456954   0.103345          -0.209061   \n",
      "gyr_x_min           -0.527626  -0.135541           0.199888   \n",
      "gyr_x_max            0.544955   0.135062          -0.214236   \n",
      "gyr_x_mean           0.013414  -0.002403          -0.012038   \n",
      "gyr_x_std            0.554285   0.141285          -0.211623   \n",
      "gyr_x_var            0.535858   0.144066          -0.182515   \n",
      "gyr_y_min           -0.312587  -0.057810           0.190207   \n",
      "gyr_y_max            0.473888   0.112707          -0.217195   \n",
      "gyr_y_mean           0.012411   0.011625          -0.002379   \n",
      "gyr_y_std            0.389536   0.083120          -0.210159   \n",
      "gyr_y_var            0.247903   0.045702          -0.157463   \n",
      "gyr_z_min           -0.256342  -0.037376           0.185136   \n",
      "gyr_z_max            0.305615   0.052754          -0.194059   \n",
      "gyr_z_mean           0.098942   0.031376          -0.020356   \n",
      "gyr_z_std            0.297170   0.049538          -0.197430   \n",
      "gyr_z_var            0.138008   0.008426          -0.135870   \n",
      "gyr_magnitude_min    0.263648   0.056631          -0.168264   \n",
      "gyr_magnitude_max    0.394684   0.083673          -0.216712   \n",
      "gyr_magnitude_mean   0.447136   0.099769          -0.233814   \n",
      "gyr_magnitude_std    0.403964   0.088757          -0.215337   \n",
      "gyr_magnitude_var    0.269812   0.053460          -0.165794   \n",
      "mag_x_min           -0.221417  -0.074028           0.924354   \n",
      "mag_x_max           -0.095341   0.017368           0.921896   \n",
      "mag_x_mean          -0.159678  -0.029198           0.926785   \n",
      "mag_x_std            0.633602   0.493796          -0.102495   \n",
      "mag_x_var            0.412736   0.526959          -0.025690   \n",
      "mag_y_min           -0.087334  -0.041689           0.945599   \n",
      "mag_y_max           -0.009755   0.011913           0.937639   \n",
      "mag_y_mean          -0.046717  -0.014008           0.942537   \n",
      "mag_y_std            0.587559   0.448339          -0.076167   \n",
      "mag_y_var            0.269962   0.400177          -0.012957   \n",
      "mag_z_min           -0.266185  -0.158894           0.819635   \n",
      "mag_z_max            0.066566   0.065569           0.793870   \n",
      "mag_z_mean          -0.110714  -0.049693           0.818920   \n",
      "mag_z_std            1.000000   0.701920          -0.155732   \n",
      "mag_z_var            0.701920   1.000000          -0.046490   \n",
      "mag_magnitude_min   -0.155732  -0.046490           1.000000   \n",
      "mag_magnitude_max   -0.076511   0.037315           0.991535   \n",
      "mag_magnitude_mean  -0.117334  -0.004651           0.997606   \n",
      "mag_magnitude_std    0.590337   0.670309          -0.012023   \n",
      "mag_magnitude_var    0.350626   0.570942          -0.006734   \n",
      "\n",
      "                    mag_magnitude_max  mag_magnitude_mean  mag_magnitude_std  \\\n",
      "acc_x_min                    0.288555            0.289644           0.005234   \n",
      "acc_x_max                   -0.084633           -0.079137          -0.068688   \n",
      "acc_x_mean                   0.121893            0.127778          -0.060060   \n",
      "acc_x_std                   -0.188716           -0.185009          -0.050557   \n",
      "acc_x_var                   -0.161526           -0.157860          -0.048251   \n",
      "acc_y_min                    0.192760            0.188623           0.057208   \n",
      "acc_y_max                   -0.041135           -0.040975          -0.002954   \n",
      "acc_y_mean                   0.117830            0.114888           0.040275   \n",
      "acc_y_std                   -0.203790           -0.200177          -0.047442   \n",
      "acc_y_var                   -0.194900           -0.191337          -0.047462   \n",
      "acc_z_min                    0.212933            0.210342           0.040393   \n",
      "acc_z_max                   -0.077574           -0.075305          -0.031570   \n",
      "acc_z_mean                   0.234976            0.232807           0.036884   \n",
      "acc_z_std                   -0.180559           -0.178193          -0.033026   \n",
      "acc_z_var                   -0.185280           -0.183539          -0.025281   \n",
      "acc_magnitude_min            0.182428            0.178927           0.055501   \n",
      "acc_magnitude_max           -0.206090           -0.202402          -0.054977   \n",
      "acc_magnitude_mean          -0.170442           -0.167196          -0.046486   \n",
      "acc_magnitude_std           -0.213110           -0.209323          -0.055866   \n",
      "acc_magnitude_var           -0.216985           -0.213226          -0.054993   \n",
      "gyr_x_min                    0.205393            0.202911           0.038221   \n",
      "gyr_x_max                   -0.221379           -0.218158          -0.049733   \n",
      "gyr_x_mean                  -0.011599           -0.012083          -0.000279   \n",
      "gyr_x_std                   -0.218266           -0.215254          -0.045096   \n",
      "gyr_x_var                   -0.187963           -0.185500          -0.037288   \n",
      "gyr_y_min                    0.198678            0.194556           0.060310   \n",
      "gyr_y_max                   -0.225107           -0.221365          -0.054653   \n",
      "gyr_y_mean                  -0.001154           -0.002179           0.012888   \n",
      "gyr_y_std                   -0.218460           -0.214445          -0.056888   \n",
      "gyr_y_var                   -0.165417           -0.161440          -0.054929   \n",
      "gyr_z_min                    0.193684            0.189445           0.060733   \n",
      "gyr_z_max                   -0.201770           -0.198049          -0.053879   \n",
      "gyr_z_mean                  -0.018358           -0.019626           0.017309   \n",
      "gyr_z_std                   -0.205763           -0.201690          -0.058109   \n",
      "gyr_z_var                   -0.142798           -0.139286          -0.048841   \n",
      "gyr_magnitude_min           -0.178700           -0.173540          -0.070992   \n",
      "gyr_magnitude_max           -0.225949           -0.221425          -0.063387   \n",
      "gyr_magnitude_mean          -0.243788           -0.239087          -0.067249   \n",
      "gyr_magnitude_std           -0.223272           -0.219425          -0.051888   \n",
      "gyr_magnitude_var           -0.173573           -0.169680          -0.051337   \n",
      "mag_x_min                    0.910201            0.919195          -0.052896   \n",
      "mag_x_max                    0.926529            0.925851           0.083782   \n",
      "mag_x_mean                   0.921830            0.926491           0.014326   \n",
      "mag_x_std                   -0.007922           -0.056420           0.723720   \n",
      "mag_x_var                    0.064017            0.018638           0.774561   \n",
      "mag_y_min                    0.932269            0.940650          -0.046038   \n",
      "mag_y_max                    0.935650            0.938260           0.039938   \n",
      "mag_y_mean                   0.934885            0.940792          -0.003092   \n",
      "mag_y_std                    0.009690           -0.033804           0.700746   \n",
      "mag_y_var                    0.057848            0.022714           0.678315   \n",
      "mag_z_min                    0.801382            0.812247          -0.094137   \n",
      "mag_z_max                    0.803789            0.800060           0.105544   \n",
      "mag_z_mean                   0.814565            0.818577           0.004714   \n",
      "mag_z_std                   -0.076511           -0.117334           0.590337   \n",
      "mag_z_var                    0.037315           -0.004651           0.670309   \n",
      "mag_magnitude_min            0.991535            0.997606          -0.012023   \n",
      "mag_magnitude_max            1.000000            0.997423           0.113701   \n",
      "mag_magnitude_mean           0.997423            1.000000           0.049771   \n",
      "mag_magnitude_std            0.113701            0.049771           1.000000   \n",
      "mag_magnitude_var            0.080016            0.036748           0.797703   \n",
      "\n",
      "                    mag_magnitude_var  \n",
      "acc_x_min                    0.009554  \n",
      "acc_x_max                   -0.019174  \n",
      "acc_x_mean                  -0.010913  \n",
      "acc_x_std                   -0.009740  \n",
      "acc_x_var                   -0.008598  \n",
      "acc_y_min                    0.016011  \n",
      "acc_y_max                   -0.003129  \n",
      "acc_y_mean                   0.010208  \n",
      "acc_y_std                   -0.008633  \n",
      "acc_y_var                   -0.012561  \n",
      "acc_z_min                    0.015216  \n",
      "acc_z_max                   -0.021127  \n",
      "acc_z_mean                   0.011162  \n",
      "acc_z_std                   -0.008880  \n",
      "acc_z_var                   -0.010770  \n",
      "acc_magnitude_min            0.025334  \n",
      "acc_magnitude_max           -0.023238  \n",
      "acc_magnitude_mean          -0.011499  \n",
      "acc_magnitude_std           -0.019891  \n",
      "acc_magnitude_var           -0.022629  \n",
      "gyr_x_min                    0.019087  \n",
      "gyr_x_max                   -0.022760  \n",
      "gyr_x_mean                  -0.004644  \n",
      "gyr_x_std                   -0.018853  \n",
      "gyr_x_var                   -0.019176  \n",
      "gyr_y_min                    0.023091  \n",
      "gyr_y_max                   -0.016461  \n",
      "gyr_y_mean                   0.030593  \n",
      "gyr_y_std                   -0.016772  \n",
      "gyr_y_var                   -0.017653  \n",
      "gyr_z_min                    0.023235  \n",
      "gyr_z_max                   -0.016169  \n",
      "gyr_z_mean                   0.019504  \n",
      "gyr_z_std                   -0.018147  \n",
      "gyr_z_var                   -0.015933  \n",
      "gyr_magnitude_min           -0.020900  \n",
      "gyr_magnitude_max           -0.018033  \n",
      "gyr_magnitude_mean          -0.018058  \n",
      "gyr_magnitude_std           -0.007432  \n",
      "gyr_magnitude_var           -0.008765  \n",
      "mag_x_min                   -0.010191  \n",
      "mag_x_max                    0.068254  \n",
      "mag_x_mean                   0.028699  \n",
      "mag_x_std                    0.489969  \n",
      "mag_x_var                    0.801580  \n",
      "mag_y_min                   -0.015742  \n",
      "mag_y_max                    0.051618  \n",
      "mag_y_mean                   0.018160  \n",
      "mag_y_std                    0.653136  \n",
      "mag_y_var                    0.935335  \n",
      "mag_z_min                   -0.044911  \n",
      "mag_z_max                    0.055314  \n",
      "mag_z_mean                   0.004956  \n",
      "mag_z_std                    0.350626  \n",
      "mag_z_var                    0.570942  \n",
      "mag_magnitude_min           -0.006734  \n",
      "mag_magnitude_max            0.080016  \n",
      "mag_magnitude_mean           0.036748  \n",
      "mag_magnitude_std            0.797703  \n",
      "mag_magnitude_var            1.000000  \n",
      "\n",
      "[60 rows x 60 columns]\n"
     ]
    }
   ],
   "source": [
    "corr = df_X_normalized[df_X_normalized.columns].corr()\n",
    "print(corr)"
   ]
  },
  {
   "cell_type": "code",
   "execution_count": 0,
   "metadata": {
    "colab": {},
    "colab_type": "code",
    "id": "ztX0lxnYQDMd"
   },
   "outputs": [],
   "source": [
    "print(df_X_normalized.shape)"
   ]
  },
  {
   "cell_type": "code",
   "execution_count": 0,
   "metadata": {
    "colab": {},
    "colab_type": "code",
    "id": "iitJARg8QDMh"
   },
   "outputs": [],
   "source": [
    "#####################################\n",
    "#### EXPORT results to csv files ####\n",
    "#####################################\n",
    "\n",
    "df_acc_cut.to_csv('datasets/final_acc.csv', sep='\\t', encoding='utf-8')\n",
    "df_mag_cut.to_csv('datasets/final_mag.csv', sep='\\t', encoding='utf-8')\n",
    "df_gyr_cut.to_csv('datasets/final_gyr.csv', sep='\\t', encoding='utf-8')\n",
    "df_gps_new.to_csv('datasets/final_gps.csv', sep='\\t', encoding='utf-8')\n",
    "\n",
    "# Filter for null values in gps\n",
    "#df_null = df_gps_new[df_gps_new['duration']==0]\n",
    "#df_null.to_csv('datasets/gps_null.csv', sep='\\t', encoding='utf-8')\n",
    "\n",
    "# Filter for startTime=endTime (=> endTime not correctly set)\n",
    "#df_no_duration = df_act[df_act['startTime'] == df_act['endTime']]\n",
    "#df_no_duration.to_csv('datasets/final_no_duration.csv', sep='\\t', encoding='utf-8')\n",
    "\n",
    "#df_no_value = df_acc_new[df_acc_new['definedActivity'] == 7]\n",
    "\n",
    "#df_no_value[['x','y','z']].to_csv('datasets/final_no_value.csv', sep='\\t', encoding='utf-8')"
   ]
  },
  {
   "cell_type": "code",
   "execution_count": 0,
   "metadata": {
    "colab": {},
    "colab_type": "code",
    "id": "QsVf5HBgQDMk"
   },
   "outputs": [],
   "source": [
    "################################\n",
    "#### PLOT specific activity ####\n",
    "################################\n",
    "\n",
    "def plot_activity(activity, df):\n",
    "    #data = df[df['activityId'] == activity][['x', 'y', 'z','magnitude']]\n",
    "    data = df[df['definedActivity'] == activity][['x', 'y', 'z','magnitude']].reset_index().drop('index', axis=1)\n",
    "    \n",
    "    axis = data.plot(subplots=True,  \n",
    "                     title=activity,\n",
    "                    figsize=(14,12))\n",
    "    for ax in axis:\n",
    "        ax.legend(loc='lower left', bbox_to_anchor=(1.0, 0.5))\n",
    "\n",
    "df_specAct = df_gyr_denoise\n",
    "plot_activity(5, df_specAct)\n",
    "\n",
    "# Create filter to only show a specific activity of a dataframe\n",
    "df_isin_acc = df_acc_new['activityId']=='5b7bdc6d5d0e657f28c769d9'\n",
    "df_acc_filtered = df_acc_new[df_isin_acc]"
   ]
  },
  {
   "cell_type": "code",
   "execution_count": 0,
   "metadata": {
    "colab": {},
    "colab_type": "code",
    "id": "T85mU7HRQDMn",
    "outputId": "7b4a76da-1b1a-460d-c18f-db609a78a434"
   },
   "outputs": [
    {
     "name": "stdout",
     "output_type": "stream",
     "text": [
      "AxesSubplot(0.125,0.125;0.775x0.755)\n"
     ]
    },
    {
     "data": {
      "image/png": "[encoded data removed]",
      "text/plain": [
       "<Figure size 432x288 with 1 Axes>"
      ]
     },
     "metadata": {
      "tags": []
     },
     "output_type": "display_data"
    }
   ],
   "source": [
    "print(df_acc_cut.groupby('definedActivity')['activityId'].nunique().plot(kind='bar'))"
   ]
  },
  {
   "cell_type": "code",
   "execution_count": 0,
   "metadata": {
    "colab": {},
    "colab_type": "code",
    "id": "S7wCvHjAQDMv",
    "outputId": "c393a8b1-20aa-4ae2-9bf8-8e55b4859a51"
   },
   "outputs": [
    {
     "name": "stdout",
     "output_type": "stream",
     "text": [
      "AxesSubplot(0.125,0.125;0.775x0.755)\n"
     ]
    },
    {
     "data": {
      "image/png": "[encoded data removed]",
      "text/plain": [
       "<Figure size 432x288 with 1 Axes>"
      ]
     },
     "metadata": {
      "tags": []
     },
     "output_type": "display_data"
    }
   ],
   "source": [
    "print(df_acc_cut.groupby('definedActivity')['activityId'].count().plot(kind='bar'))"
   ]
  },
  {
   "cell_type": "code",
   "execution_count": 0,
   "metadata": {
    "colab": {},
    "colab_type": "code",
    "id": "B4ICvxZ5QDM5"
   },
   "outputs": [],
   "source": [
    "               \n",
    "                #################################################################\n",
    "                #################################################################\n",
    "                ##################### END OF USED STUFF #########################\n",
    "                #################################################################\n",
    "                #################################################################\n",
    "                                            \n",
    "                                            THE END"
   ]
  },
  {
   "cell_type": "code",
   "execution_count": 0,
   "metadata": {
    "colab": {},
    "colab_type": "code",
    "id": "9QIhka7iQDM9"
   },
   "outputs": [],
   "source": [
    "######################################################################################################################\n",
    "######################################################################################################################\n",
    "######################################################################################################################"
   ]
  },
  {
   "cell_type": "code",
   "execution_count": 0,
   "metadata": {
    "colab": {},
    "colab_type": "code",
    "id": "hzdMnG5mQDNB"
   },
   "outputs": [],
   "source": [
    "##############################################\n",
    "#### REMOVE Duplicates in dataframes #########\n",
    "##############################################\n",
    "\n",
    "#print(df_acc_new.groupby('activityId')['x'].apply(lambda x: x.count()))\n",
    "def removeAllDuplicates():\n",
    "    #is_duplicate_acc = df_acc_new['activityId'] == activity\n",
    "    #is_duplicate_gyr = df_gyr_new['activityId'] == activity\n",
    "    #is_duplicate_mag = df_mag_new['activityId'] == activity\n",
    "\n",
    "    #filter_duplicate_acc = df_acc_new[is_duplicate_acc]\n",
    "    #filter_duplicate_gyr = df_gyr_new[is_duplicate_gyr]\n",
    "    #filter_duplicate_mag = df_mag_new[is_duplicate_mag]\n",
    "    \n",
    "    duplicates_removed_acc = df_acc_denoise.reset_index().drop_duplicates(subset='timestamp', keep='last')\n",
    "    duplicates_removed_gyr = df_gyr_denoise.reset_index().drop_duplicates(subset='timestamp', keep='last')\n",
    "    duplicates_removed_mag = df_mag_denoise.reset_index().drop_duplicates(subset='timestamp', keep='last')\n",
    "    \n",
    "    print(\"old/new ACC --> \",len(df_acc_denoise), \" | \", len(duplicates_removed_acc))\n",
    "    print(\"old/new GYR --> \",len(df_gyr_denoise), \" | \", len(duplicates_removed_gyr))\n",
    "    print(\"old/new MAG --> \",len(df_mag_denoise), \" | \", len(duplicates_removed_mag))\n",
    "\n",
    "    return duplicates_removed_acc, duplicates_removed_gyr, duplicates_removed_mag\n",
    "#np.set_printoptions(threshold=np.inf)\n",
    "#print(filter_duplicate.index, filter_duplicate.index.duplicated(keep=False))\n",
    "\n",
    "#df_acc_denoise, df_gyr_denoise, df_mag_denoise = removeDuplicates()"
   ]
  }
 ],
 "metadata": {
  "colab": {
   "collapsed_sections": [],
   "name": "Preprocessing-Data.ipynb",
   "provenance": [],
   "version": "0.3.2"
  },
  "kernelspec": {
   "display_name": "Python 3",
   "language": "python",
   "name": "python3"
  },
  "language_info": {
   "codemirror_mode": {
    "name": "ipython",
    "version": 3
   },
   "file_extension": ".py",
   "mimetype": "text/x-python",
   "name": "python",
   "nbconvert_exporter": "python",
   "pygments_lexer": "ipython3",
   "version": "3.6.8"
  }
 },
 "nbformat": 4,
 "nbformat_minor": 1
}
